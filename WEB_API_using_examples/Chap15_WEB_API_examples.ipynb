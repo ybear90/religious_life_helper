{
 "cells": [
  {
   "cell_type": "markdown",
   "metadata": {},
   "source": [
    "### JSON 데이터 예제"
   ]
  },
  {
   "cell_type": "code",
   "execution_count": 1,
   "metadata": {},
   "outputs": [
    {
     "data": {
      "text/plain": [
       "dict"
      ]
     },
     "execution_count": 1,
     "metadata": {},
     "output_type": "execute_result"
    }
   ],
   "source": [
    "import json\n",
    "\n",
    "python_dict = {\n",
    "    \"이름\": \"홍길동\",\n",
    "    \"나이\": 25,\n",
    "    \"거주지\": \"서울\",\n",
    "    \"신체정보\": {\n",
    "        \"키\": 175.4,\n",
    "        \"몸무게\": 71.2\n",
    "    },\n",
    "    \"취미\": [\n",
    "        \"등산\",\n",
    "        \"자전거타기\",\n",
    "        \"독서\"\n",
    "    ]\n",
    "}\n",
    "\n",
    "type(python_dict)"
   ]
  },
  {
   "cell_type": "code",
   "execution_count": 2,
   "metadata": {},
   "outputs": [
    {
     "data": {
      "text/plain": [
       "str"
      ]
     },
     "execution_count": 2,
     "metadata": {},
     "output_type": "execute_result"
    }
   ],
   "source": [
    "# json 형태의 데이터로 변환\n",
    "json_data = json.dumps(python_dict)\n",
    "type(json_data)"
   ]
  },
  {
   "cell_type": "code",
   "execution_count": 3,
   "metadata": {},
   "outputs": [
    {
     "name": "stdout",
     "output_type": "stream",
     "text": [
      "{\"\\uc774\\ub984\": \"\\ud64d\\uae38\\ub3d9\", \"\\ub098\\uc774\": 25, \"\\uac70\\uc8fc\\uc9c0\": \"\\uc11c\\uc6b8\", \"\\uc2e0\\uccb4\\uc815\\ubcf4\": {\"\\ud0a4\": 175.4, \"\\ubab8\\ubb34\\uac8c\": 71.2}, \"\\ucde8\\ubbf8\": [\"\\ub4f1\\uc0b0\", \"\\uc790\\uc804\\uac70\\ud0c0\\uae30\", \"\\ub3c5\\uc11c\"]}\n"
     ]
    }
   ],
   "source": [
    "# json 데이터 출력 확인\n",
    "# 한글도 출력이 안되고 들여쓰기도 안되는 것을 확인할 수 있음\n",
    "print(json_data)"
   ]
  },
  {
   "cell_type": "code",
   "execution_count": 4,
   "metadata": {},
   "outputs": [
    {
     "name": "stdout",
     "output_type": "stream",
     "text": [
      "{\n",
      "   \"거주지\": \"서울\",\n",
      "   \"나이\": 25,\n",
      "   \"신체정보\": {\n",
      "      \"몸무게\": 71.2,\n",
      "      \"키\": 175.4\n",
      "   },\n",
      "   \"이름\": \"홍길동\",\n",
      "   \"취미\": [\n",
      "      \"등산\",\n",
      "      \"자전거타기\",\n",
      "      \"독서\"\n",
      "   ]\n",
      "}\n"
     ]
    }
   ],
   "source": [
    "# json.dumps()에 옵션 추가 후 다시 출력\n",
    "json_data = json.dumps(python_dict, indent = 3, sort_keys = True, ensure_ascii = False)\n",
    "print(json_data)"
   ]
  },
  {
   "cell_type": "code",
   "execution_count": 5,
   "metadata": {},
   "outputs": [
    {
     "data": {
      "text/plain": [
       "dict"
      ]
     },
     "execution_count": 5,
     "metadata": {},
     "output_type": "execute_result"
    }
   ],
   "source": [
    "# json 형식의 데이터를 파이썬의 dictionary형태로 변경하기\n",
    "json_dict = json.loads(json_data)\n",
    "type(json_dict)"
   ]
  },
  {
   "cell_type": "code",
   "execution_count": 6,
   "metadata": {},
   "outputs": [
    {
     "data": {
      "text/plain": [
       "71.2"
      ]
     },
     "execution_count": 6,
     "metadata": {},
     "output_type": "execute_result"
    }
   ],
   "source": [
    "# 실제 dictionary처럼 출력이 이뤄 지는지 확인해봅니다.\n",
    "json_dict['신체정보']['몸무게']"
   ]
  },
  {
   "cell_type": "code",
   "execution_count": 7,
   "metadata": {},
   "outputs": [
    {
     "data": {
      "text/plain": [
       "['등산', '자전거타기', '독서']"
      ]
     },
     "execution_count": 7,
     "metadata": {},
     "output_type": "execute_result"
    }
   ],
   "source": [
    "json_dict['취미']"
   ]
  },
  {
   "cell_type": "code",
   "execution_count": 8,
   "metadata": {},
   "outputs": [
    {
     "data": {
      "text/plain": [
       "'등산'"
      ]
     },
     "execution_count": 8,
     "metadata": {},
     "output_type": "execute_result"
    }
   ],
   "source": [
    "json_dict['취미'][0]"
   ]
  },
  {
   "cell_type": "markdown",
   "metadata": {},
   "source": [
    "### XML to Python dictionary 예제"
   ]
  },
  {
   "cell_type": "code",
   "execution_count": 11,
   "metadata": {},
   "outputs": [
    {
     "name": "stdout",
     "output_type": "stream",
     "text": [
      "<?xml version=\"1.0\" encoding=\"UTF-8\" ?>\n",
      "<사용자정보>\n",
      "    <이름>홍길동</이름>\n",
      "    <나이>25</나이>\n",
      "    <거주지>서울</거주지>\n",
      "<신체정보>\n",
      "    <키 unit=\"cm\">175.4</키>\n",
      "    <몸무게 unit=\"kg\">71.2</몸무게>\n",
      "</신체정보>\n",
      "<취미>등산</취미>\n",
      "<취미>자전거타기</취미>\n",
      "<취미>독서</취미>\n",
      "</사용자정보>\n",
      "\n"
     ]
    }
   ],
   "source": [
    "xml_data = \"\"\"<?xml version=\"1.0\" encoding=\"UTF-8\" ?>\n",
    "<사용자정보>\n",
    "    <이름>홍길동</이름>\n",
    "    <나이>25</나이>\n",
    "    <거주지>서울</거주지>\n",
    "<신체정보>\n",
    "    <키 unit=\"cm\">175.4</키>\n",
    "    <몸무게 unit=\"kg\">71.2</몸무게>\n",
    "</신체정보>\n",
    "<취미>등산</취미>\n",
    "<취미>자전거타기</취미>\n",
    "<취미>독서</취미>\n",
    "</사용자정보>\n",
    "\"\"\"\n",
    "\n",
    "print(xml_data)"
   ]
  },
  {
   "cell_type": "code",
   "execution_count": 12,
   "metadata": {},
   "outputs": [
    {
     "data": {
      "text/plain": [
       "OrderedDict([('사용자정보',\n",
       "              OrderedDict([('이름', '홍길동'),\n",
       "                           ('나이', '25'),\n",
       "                           ('거주지', '서울'),\n",
       "                           ('신체정보',\n",
       "                            OrderedDict([('키',\n",
       "                                          OrderedDict([('@unit', 'cm'),\n",
       "                                                       ('#text', '175.4')])),\n",
       "                                         ('몸무게',\n",
       "                                          OrderedDict([('@unit', 'kg'),\n",
       "                                                       ('#text', '71.2')]))])),\n",
       "                           ('취미', ['등산', '자전거타기', '독서'])]))])"
      ]
     },
     "execution_count": 12,
     "metadata": {},
     "output_type": "execute_result"
    }
   ],
   "source": [
    "# xml 데이터 형식을 dictionary 타입으로 변경하는 예제\n",
    "import xmltodict\n",
    "\n",
    "dict_data = xmltodict.parse(xml_data, xml_attribs = True)\n",
    "dict_data"
   ]
  },
  {
   "cell_type": "code",
   "execution_count": 13,
   "metadata": {},
   "outputs": [
    {
     "data": {
      "text/plain": [
       "'홍길동'"
      ]
     },
     "execution_count": 13,
     "metadata": {},
     "output_type": "execute_result"
    }
   ],
   "source": [
    "dict_data['사용자정보']['이름']"
   ]
  },
  {
   "cell_type": "code",
   "execution_count": 14,
   "metadata": {},
   "outputs": [
    {
     "data": {
      "text/plain": [
       "OrderedDict([('키', OrderedDict([('@unit', 'cm'), ('#text', '175.4')])),\n",
       "             ('몸무게', OrderedDict([('@unit', 'kg'), ('#text', '71.2')]))])"
      ]
     },
     "execution_count": 14,
     "metadata": {},
     "output_type": "execute_result"
    }
   ],
   "source": [
    "# 사용자정보 중 신체정보 출력\n",
    "dict_data['사용자정보']['신체정보']"
   ]
  },
  {
   "cell_type": "code",
   "execution_count": 17,
   "metadata": {},
   "outputs": [
    {
     "name": "stdout",
     "output_type": "stream",
     "text": [
      "키의 단위:  cm 키의 텍스트 값:  175.4\n"
     ]
    }
   ],
   "source": [
    "print(\"키의 단위: \", dict_data['사용자정보']['신체정보']['키']['@unit'], \"키의 텍스트 값: \", \\\n",
    "      dict_data['사용자정보']['신체정보']['키']['#text'])"
   ]
  },
  {
   "cell_type": "code",
   "execution_count": 19,
   "metadata": {},
   "outputs": [
    {
     "name": "stdout",
     "output_type": "stream",
     "text": [
      "[사용자 홍길동의 신체정보]\n",
      "*키: 175.4cm\n",
      "*몸무게: 71.2kg\n"
     ]
    }
   ],
   "source": [
    "# XML 데이터에서 원하는 데이터를 추출 및 활용하는 예제(종합)\n",
    "import xmltodict\n",
    "\n",
    "dict_data = xmltodict.parse(xml_data)\n",
    "\n",
    "user_name = dict_data['사용자정보']['이름']\n",
    "body_data = dict_data['사용자정보']['신체정보']\n",
    "\n",
    "height = body_data['키']['#text']\n",
    "height_unit = body_data['키']['@unit']\n",
    "\n",
    "weight = body_data['몸무게']['#text']\n",
    "weight_unit = body_data['몸무게']['@unit']\n",
    "\n",
    "print(\"[사용자 {0}의 신체정보]\".format(user_name))\n",
    "print(\"*키: {0}{1}\".format(height, height_unit))\n",
    "print(\"*몸무게: {0}{1}\".format(weight, weight_unit))"
   ]
  },
  {
   "cell_type": "code",
   "execution_count": 22,
   "metadata": {},
   "outputs": [
    {
     "data": {
      "text/plain": [
       "OrderedDict([('사용자정보',\n",
       "              OrderedDict([('이름', '홍길동'),\n",
       "                           ('나이', '25'),\n",
       "                           ('거주지', '서울'),\n",
       "                           ('신체정보',\n",
       "                            OrderedDict([('키', '175.4'), ('몸무게', '71.2')])),\n",
       "                           ('취미', ['등산', '자전거타기', '독서'])]))])"
      ]
     },
     "execution_count": 22,
     "metadata": {},
     "output_type": "execute_result"
    }
   ],
   "source": [
    "# XML에서 지정한 속성 무시하고 python dictionary로 파싱하기\n",
    "dict_data2 = xmltodict.parse(xml_data, xml_attribs = False)\n",
    "dict_data2"
   ]
  },
  {
   "cell_type": "code",
   "execution_count": null,
   "metadata": {},
   "outputs": [],
   "source": []
  },
  {
   "cell_type": "code",
   "execution_count": null,
   "metadata": {},
   "outputs": [],
   "source": []
  },
  {
   "cell_type": "code",
   "execution_count": null,
   "metadata": {},
   "outputs": [],
   "source": []
  },
  {
   "cell_type": "code",
   "execution_count": null,
   "metadata": {},
   "outputs": [],
   "source": []
  }
 ],
 "metadata": {
  "kernelspec": {
   "display_name": "Python 3",
   "language": "python",
   "name": "python3"
  },
  "language_info": {
   "codemirror_mode": {
    "name": "ipython",
    "version": 3
   },
   "file_extension": ".py",
   "mimetype": "text/x-python",
   "name": "python",
   "nbconvert_exporter": "python",
   "pygments_lexer": "ipython3",
   "version": "3.6.8"
  }
 },
 "nbformat": 4,
 "nbformat_minor": 2
}
