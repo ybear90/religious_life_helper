{
 "cells": [
  {
   "cell_type": "markdown",
   "metadata": {},
   "source": [
    "### JSON 데이터 예제"
   ]
  },
  {
   "cell_type": "code",
   "execution_count": 1,
   "metadata": {},
   "outputs": [
    {
     "data": {
      "text/plain": [
       "dict"
      ]
     },
     "execution_count": 1,
     "metadata": {},
     "output_type": "execute_result"
    }
   ],
   "source": [
    "import json\n",
    "\n",
    "python_dict = {\n",
    "    \"이름\": \"홍길동\",\n",
    "    \"나이\": 25,\n",
    "    \"거주지\": \"서울\",\n",
    "    \"신체정보\": {\n",
    "        \"키\": 175.4,\n",
    "        \"몸무게\": 71.2\n",
    "    },\n",
    "    \"취미\": [\n",
    "        \"등산\",\n",
    "        \"자전거타기\",\n",
    "        \"독서\"\n",
    "    ]\n",
    "}\n",
    "\n",
    "type(python_dict)"
   ]
  },
  {
   "cell_type": "code",
   "execution_count": 2,
   "metadata": {},
   "outputs": [
    {
     "data": {
      "text/plain": [
       "str"
      ]
     },
     "execution_count": 2,
     "metadata": {},
     "output_type": "execute_result"
    }
   ],
   "source": [
    "# json 형태의 데이터로 변환\n",
    "json_data = json.dumps(python_dict)\n",
    "type(json_data)"
   ]
  },
  {
   "cell_type": "code",
   "execution_count": 3,
   "metadata": {},
   "outputs": [
    {
     "name": "stdout",
     "output_type": "stream",
     "text": [
      "{\"\\uc774\\ub984\": \"\\ud64d\\uae38\\ub3d9\", \"\\ub098\\uc774\": 25, \"\\uac70\\uc8fc\\uc9c0\": \"\\uc11c\\uc6b8\", \"\\uc2e0\\uccb4\\uc815\\ubcf4\": {\"\\ud0a4\": 175.4, \"\\ubab8\\ubb34\\uac8c\": 71.2}, \"\\ucde8\\ubbf8\": [\"\\ub4f1\\uc0b0\", \"\\uc790\\uc804\\uac70\\ud0c0\\uae30\", \"\\ub3c5\\uc11c\"]}\n"
     ]
    }
   ],
   "source": [
    "# json 데이터 출력 확인\n",
    "# 한글도 출력이 안되고 들여쓰기도 안되는 것을 확인할 수 있음\n",
    "print(json_data)"
   ]
  },
  {
   "cell_type": "code",
   "execution_count": 4,
   "metadata": {},
   "outputs": [
    {
     "name": "stdout",
     "output_type": "stream",
     "text": [
      "{\n",
      "   \"거주지\": \"서울\",\n",
      "   \"나이\": 25,\n",
      "   \"신체정보\": {\n",
      "      \"몸무게\": 71.2,\n",
      "      \"키\": 175.4\n",
      "   },\n",
      "   \"이름\": \"홍길동\",\n",
      "   \"취미\": [\n",
      "      \"등산\",\n",
      "      \"자전거타기\",\n",
      "      \"독서\"\n",
      "   ]\n",
      "}\n"
     ]
    }
   ],
   "source": [
    "# json.dumps()에 옵션 추가 후 다시 출력\n",
    "json_data = json.dumps(python_dict, indent = 3, sort_keys = True, ensure_ascii = False)\n",
    "print(json_data)"
   ]
  },
  {
   "cell_type": "code",
   "execution_count": 5,
   "metadata": {},
   "outputs": [
    {
     "data": {
      "text/plain": [
       "dict"
      ]
     },
     "execution_count": 5,
     "metadata": {},
     "output_type": "execute_result"
    }
   ],
   "source": [
    "# json 형식의 데이터를 파이썬의 dictionary형태로 변경하기\n",
    "json_dict = json.loads(json_data)\n",
    "type(json_dict)"
   ]
  },
  {
   "cell_type": "code",
   "execution_count": 6,
   "metadata": {},
   "outputs": [
    {
     "data": {
      "text/plain": [
       "71.2"
      ]
     },
     "execution_count": 6,
     "metadata": {},
     "output_type": "execute_result"
    }
   ],
   "source": [
    "# 실제 dictionary처럼 출력이 이뤄 지는지 확인해봅니다.\n",
    "json_dict['신체정보']['몸무게']"
   ]
  },
  {
   "cell_type": "code",
   "execution_count": 7,
   "metadata": {},
   "outputs": [
    {
     "data": {
      "text/plain": [
       "['등산', '자전거타기', '독서']"
      ]
     },
     "execution_count": 7,
     "metadata": {},
     "output_type": "execute_result"
    }
   ],
   "source": [
    "json_dict['취미']"
   ]
  },
  {
   "cell_type": "code",
   "execution_count": 8,
   "metadata": {},
   "outputs": [
    {
     "data": {
      "text/plain": [
       "'등산'"
      ]
     },
     "execution_count": 8,
     "metadata": {},
     "output_type": "execute_result"
    }
   ],
   "source": [
    "json_dict['취미'][0]"
   ]
  },
  {
   "cell_type": "markdown",
   "metadata": {},
   "source": [
    "### XML to Python dictionary 예제"
   ]
  },
  {
   "cell_type": "code",
   "execution_count": 9,
   "metadata": {},
   "outputs": [
    {
     "name": "stdout",
     "output_type": "stream",
     "text": [
      "<?xml version=\"1.0\" encoding=\"UTF-8\" ?>\n",
      "<사용자정보>\n",
      "    <이름>홍길동</이름>\n",
      "    <나이>25</나이>\n",
      "    <거주지>서울</거주지>\n",
      "<신체정보>\n",
      "    <키 unit=\"cm\">175.4</키>\n",
      "    <몸무게 unit=\"kg\">71.2</몸무게>\n",
      "</신체정보>\n",
      "<취미>등산</취미>\n",
      "<취미>자전거타기</취미>\n",
      "<취미>독서</취미>\n",
      "</사용자정보>\n",
      "\n"
     ]
    }
   ],
   "source": [
    "xml_data = \"\"\"<?xml version=\"1.0\" encoding=\"UTF-8\" ?>\n",
    "<사용자정보>\n",
    "    <이름>홍길동</이름>\n",
    "    <나이>25</나이>\n",
    "    <거주지>서울</거주지>\n",
    "<신체정보>\n",
    "    <키 unit=\"cm\">175.4</키>\n",
    "    <몸무게 unit=\"kg\">71.2</몸무게>\n",
    "</신체정보>\n",
    "<취미>등산</취미>\n",
    "<취미>자전거타기</취미>\n",
    "<취미>독서</취미>\n",
    "</사용자정보>\n",
    "\"\"\"\n",
    "\n",
    "print(xml_data)"
   ]
  },
  {
   "cell_type": "code",
   "execution_count": 10,
   "metadata": {},
   "outputs": [
    {
     "data": {
      "text/plain": [
       "OrderedDict([('사용자정보',\n",
       "              OrderedDict([('이름', '홍길동'),\n",
       "                           ('나이', '25'),\n",
       "                           ('거주지', '서울'),\n",
       "                           ('신체정보',\n",
       "                            OrderedDict([('키',\n",
       "                                          OrderedDict([('@unit', 'cm'),\n",
       "                                                       ('#text', '175.4')])),\n",
       "                                         ('몸무게',\n",
       "                                          OrderedDict([('@unit', 'kg'),\n",
       "                                                       ('#text', '71.2')]))])),\n",
       "                           ('취미', ['등산', '자전거타기', '독서'])]))])"
      ]
     },
     "execution_count": 10,
     "metadata": {},
     "output_type": "execute_result"
    }
   ],
   "source": [
    "# xml 데이터 형식을 dictionary 타입으로 변경하는 예제\n",
    "import xmltodict\n",
    "\n",
    "dict_data = xmltodict.parse(xml_data, xml_attribs = True)\n",
    "dict_data"
   ]
  },
  {
   "cell_type": "code",
   "execution_count": 11,
   "metadata": {},
   "outputs": [
    {
     "data": {
      "text/plain": [
       "'홍길동'"
      ]
     },
     "execution_count": 11,
     "metadata": {},
     "output_type": "execute_result"
    }
   ],
   "source": [
    "dict_data['사용자정보']['이름']"
   ]
  },
  {
   "cell_type": "code",
   "execution_count": 12,
   "metadata": {},
   "outputs": [
    {
     "data": {
      "text/plain": [
       "OrderedDict([('키', OrderedDict([('@unit', 'cm'), ('#text', '175.4')])),\n",
       "             ('몸무게', OrderedDict([('@unit', 'kg'), ('#text', '71.2')]))])"
      ]
     },
     "execution_count": 12,
     "metadata": {},
     "output_type": "execute_result"
    }
   ],
   "source": [
    "# 사용자정보 중 신체정보 출력\n",
    "dict_data['사용자정보']['신체정보']"
   ]
  },
  {
   "cell_type": "code",
   "execution_count": 13,
   "metadata": {},
   "outputs": [
    {
     "name": "stdout",
     "output_type": "stream",
     "text": [
      "키의 단위:  cm 키의 텍스트 값:  175.4\n"
     ]
    }
   ],
   "source": [
    "print(\"키의 단위: \", dict_data['사용자정보']['신체정보']['키']['@unit'], \"키의 텍스트 값: \", \\\n",
    "      dict_data['사용자정보']['신체정보']['키']['#text'])"
   ]
  },
  {
   "cell_type": "code",
   "execution_count": 14,
   "metadata": {},
   "outputs": [
    {
     "name": "stdout",
     "output_type": "stream",
     "text": [
      "[사용자 홍길동의 신체정보]\n",
      "*키: 175.4cm\n",
      "*몸무게: 71.2kg\n"
     ]
    }
   ],
   "source": [
    "# XML 데이터에서 원하는 데이터를 추출 및 활용하는 예제(종합)\n",
    "import xmltodict\n",
    "\n",
    "dict_data = xmltodict.parse(xml_data)\n",
    "\n",
    "user_name = dict_data['사용자정보']['이름']\n",
    "body_data = dict_data['사용자정보']['신체정보']\n",
    "\n",
    "height = body_data['키']['#text']\n",
    "height_unit = body_data['키']['@unit']\n",
    "\n",
    "weight = body_data['몸무게']['#text']\n",
    "weight_unit = body_data['몸무게']['@unit']\n",
    "\n",
    "print(\"[사용자 {0}의 신체정보]\".format(user_name))\n",
    "print(\"*키: {0}{1}\".format(height, height_unit))\n",
    "print(\"*몸무게: {0}{1}\".format(weight, weight_unit))"
   ]
  },
  {
   "cell_type": "code",
   "execution_count": 15,
   "metadata": {},
   "outputs": [
    {
     "data": {
      "text/plain": [
       "OrderedDict([('사용자정보',\n",
       "              OrderedDict([('이름', '홍길동'),\n",
       "                           ('나이', '25'),\n",
       "                           ('거주지', '서울'),\n",
       "                           ('신체정보',\n",
       "                            OrderedDict([('키', '175.4'), ('몸무게', '71.2')])),\n",
       "                           ('취미', ['등산', '자전거타기', '독서'])]))])"
      ]
     },
     "execution_count": 15,
     "metadata": {},
     "output_type": "execute_result"
    }
   ],
   "source": [
    "# XML에서 지정한 속성 무시하고 python dictionary로 파싱하기\n",
    "dict_data2 = xmltodict.parse(xml_data, xml_attribs = False)\n",
    "dict_data2"
   ]
  },
  {
   "cell_type": "markdown",
   "metadata": {},
   "source": [
    "### 웹 사이트 주소에 부가 정보 추가하기 예제"
   ]
  },
  {
   "cell_type": "code",
   "execution_count": 16,
   "metadata": {},
   "outputs": [
    {
     "name": "stdout",
     "output_type": "stream",
     "text": [
      "https://api.github.com/events\n"
     ]
    }
   ],
   "source": [
    "base_url = \"https://api.github.com/\"\n",
    "sub_dir = \"events\"\n",
    "url = base_url + sub_dir\n",
    "print(url)"
   ]
  },
  {
   "cell_type": "markdown",
   "metadata": {},
   "source": [
    "#### 웹 사이트 주소에 경로 추가"
   ]
  },
  {
   "cell_type": "code",
   "execution_count": 17,
   "metadata": {},
   "outputs": [
    {
     "name": "stdout",
     "output_type": "stream",
     "text": [
      "https://api.github.com/events\n",
      "https://api.github.com/user\n",
      "https://api.github.com/emails\n"
     ]
    }
   ],
   "source": [
    "# 기본 웹 사이트 주소에 하위 경로만 변경하여 URL 생성 후 requests.get()을 이용해 데이터를 요청하고 응답받는 예제\n",
    "import requests\n",
    "\n",
    "base_url = \"https://api.github.com/\"\n",
    "sub_dirs = [\"events\", \"user\", \"emails\"]\n",
    "\n",
    "for sub_dir in sub_dirs:\n",
    "    url_dir = base_url + sub_dir\n",
    "    r = requests.get(url_dir)\n",
    "    print(r.url)"
   ]
  },
  {
   "cell_type": "markdown",
   "metadata": {},
   "source": [
    "#### 웹 사이트 주소에 매개변수 추가"
   ]
  },
  {
   "cell_type": "code",
   "execution_count": 18,
   "metadata": {},
   "outputs": [
    {
     "name": "stdout",
     "output_type": "stream",
     "text": [
      "http://api.openweathermap.org/data/2.5/weather?lat=37.57&lon=126.98&appid=b235c57pc357fb68acr1e81&units=metric\n"
     ]
    }
   ],
   "source": [
    "# '?'를 이용하면 해당 웹 사이트에 매개변수를 보낼 수 있다.\n",
    "# 전달하려는 매개변수가 2개 이상이면 : '&'로 연결지어 보내주면 된다.\n",
    "import requests\n",
    "\n",
    "LAT = '37.57' # 위도\n",
    "LON = '126.98' # 경도\n",
    "# API_KEY = 'YOUR-API-KEY' # API 키(임의의 API 키)\n",
    "UNIT = 'metric' # 단위\n",
    "\n",
    "site_url = \"http://api.openweathermap.org/data/2.5/weather\"\n",
    "parameter = \"?lat=%s&lon=%s&appid=%s&units=%s\"%(LAT, LON, API_KEY, UNIT)\n",
    "url_para = site_url + parameter\n",
    "r = requests.get(url_para)\n",
    "\n",
    "print(r.url)"
   ]
  },
  {
   "cell_type": "code",
   "execution_count": 19,
   "metadata": {},
   "outputs": [
    {
     "name": "stdout",
     "output_type": "stream",
     "text": [
      "http://api.openweathermap.org/data/2.5/weather?lat=37.57&lon=126.98&appid=b235c57pc357fb68acr1e81&units=metric\n"
     ]
    }
   ],
   "source": [
    "# 직접 생성한 URL을 요청 주소(url)과 요청 매개변수(params)로 분리 후 'requests.get(url, params = req_parameter)'\n",
    "# 를 이용해 URL 생성하는 예제\n",
    "import requests\n",
    "\n",
    "LAT = '37.57' # 위도\n",
    "LON = '126.98' # 경도\n",
    "# API_KEY = 'YOUR-API-KEY' # API 키(임의의 API 키)\n",
    "UNIT = 'metric' # 단위\n",
    "\n",
    "req_url = \"http://api.openweathermap.org/data/2.5/weather\"\n",
    "req_parameter = {\"lat\": LAT, \"lon\": LON, \"appid\": API_KEY, \"units\": UNIT}\n",
    "r = requests.get(req_url, params = req_parameter)\n",
    "print(r.url)"
   ]
  },
  {
   "cell_type": "markdown",
   "metadata": {},
   "source": [
    "#### 웹사이트 주소의 인코딩과 디코딩"
   ]
  },
  {
   "cell_type": "code",
   "execution_count": 20,
   "metadata": {},
   "outputs": [
    {
     "name": "stdout",
     "output_type": "stream",
     "text": [
      "Encoded url:  et5piq3pfpqLEWPpCbvtSQ%2Bertertg%2Bx3evdvbaRBvhWEerg3efac2r3f3RfhDTERTw%2B9rkvoewRV%2Fovmrk3dq%3D%3D\n",
      "Decoded url:  et5piq3pfpqLEWPpCbvtSQ+ertertg+x3evdvbaRBvhWEerg3efac2r3f3RfhDTERTw+9rkvoewRV/ovmrk3dq==\n"
     ]
    }
   ],
   "source": [
    "# 인코딩된 API 키 문자열을 원래의 API 키 문자열, 다시 말해 디코딩된 API 키 문자열로 변환하는 방법 예제\n",
    "import requests\n",
    "\n",
    "# API_KEY = 'YOUR-API-KEY'\n",
    "\n",
    "# API_KEY decoding\n",
    "API_KEY_decode = requests.utils.unquote(API_KEY)\n",
    "\n",
    "print(\"Encoded url: \", API_KEY)\n",
    "print(\"Decoded url: \", API_KEY_decode)"
   ]
  },
  {
   "cell_type": "code",
   "execution_count": 21,
   "metadata": {
    "scrolled": false
   },
   "outputs": [
    {
     "name": "stdout",
     "output_type": "stream",
     "text": [
      "http://openapi.airkorea.or.kr/openapi/services/rest/MsrstcInfoInquireSvc/getNearbyMsrstnList?ServiceKey=et5piq3pfpqLEWPpCbvtSQ%2Bertertg%2Bx3evdvbaRBvhWEerg3efac2r3f3RfhDTERTw%2B9rkvoewRV%2Fovmrk3dq%3D%3D&tmX=244148.546388&tmY=412423.75772\n"
     ]
    }
   ],
   "source": [
    "# 디코딩된 API 키를 이용해 데이터를 요청하는 예제\n",
    "# 그런데 연결 거부가 떠서 확인이 안되유 ㅠㅠ\n",
    "req_url = \"http://openapi.airkorea.or.kr/openapi/services/rest/MsrstcInfoInquireSvc/getNearbyMsrstnList\"\n",
    "\n",
    "tm_x = 244148.546388\n",
    "tm_y = 412423.75772\n",
    "\n",
    "req_parameter = {\"ServiceKey\": API_KEY_decode, \"tmX\": tm_x, \"tmY\": tm_y}\n",
    "\n",
    "r = requests.get(req_url, params = req_parameter)\n",
    "print(r.url)"
   ]
  },
  {
   "cell_type": "markdown",
   "metadata": {},
   "source": [
    "### API 키 없이 데이터 가져오기"
   ]
  },
  {
   "cell_type": "code",
   "execution_count": 22,
   "metadata": {},
   "outputs": [
    {
     "name": "stdout",
     "output_type": "stream",
     "text": [
      "{\"message\": \"success\", \"iss_position\": {\"longitude\": \"108.5958\", \"latitude\": \"-9.7247\"}, \"timestamp\": 1558345216}\n",
      "========================================================================================================================\n",
      "{\n",
      "  \"message\": \"success\", \n",
      "  \"request\": {\n",
      "    \"altitude\": 100, \n",
      "    \"datetime\": 1558343831, \n",
      "    \"latitude\": 37.4, \n",
      "    \"longitude\": 126.37, \n",
      "    \"passes\": 5\n",
      "  }, \n",
      "  \"response\": [\n",
      "    {\n",
      "      \"duration\": 476, \n",
      "      \"risetime\": 1558345754\n",
      "    }, \n",
      "    {\n",
      "      \"duration\": 644, \n",
      "      \"risetime\": 1558351434\n",
      "    }, \n",
      "    {\n",
      "      \"duration\": 564, \n",
      "      \"risetime\": 1558357294\n",
      "    }, \n",
      "    {\n",
      "      \"duration\": 465, \n",
      "      \"risetime\": 1558363211\n",
      "    }, \n",
      "    {\n",
      "      \"duration\": 535, \n",
      "      \"risetime\": 1558369049\n",
      "    }\n",
      "  ]\n",
      "}\n",
      "\n",
      "========================================================================================================================\n",
      "{\"message\": \"success\", \"number\": 6, \"people\": [{\"craft\": \"ISS\", \"name\": \"Oleg Kononenko\"}, {\"craft\": \"ISS\", \"name\": \"David Saint-Jacques\"}, {\"craft\": \"ISS\", \"name\": \"Anne McClain\"}, {\"craft\": \"ISS\", \"name\": \"Alexey Ovchinin\"}, {\"craft\": \"ISS\", \"name\": \"Nick Hague\"}, {\"craft\": \"ISS\", \"name\": \"Christina Koch\"}]}\n"
     ]
    }
   ],
   "source": [
    "# 국제 우주정거장(ISS)의 정보 가져오기\n",
    "# API DOCS 참조 : http://open-notify.org\n",
    "import requests\n",
    "import json\n",
    "\n",
    "# 이건 현재 ISS가 어디 있는지 보여주는 json입니다\n",
    "url = \"http://api.open-notify.org/iss-now.json\"\n",
    "r = requests.get(url)\n",
    "\n",
    "# 이건 현재 ISS가 특정 위,경도에 언제 올건지 보여줄 json입니다.\n",
    "# 본가가 김포시 사우동이라 해당 위,경도 기준으로 합니다\n",
    "LAT = '37.40' # 위도 \n",
    "LON = '126.37' # 경도\n",
    "url2 = \"http://api.open-notify.org/iss-pass.json\"\n",
    "req_param = {\"lat\": LAT, \"lon\": LON}\n",
    "r2 = requests.get(url2, params = req_param)\n",
    "\n",
    "# 이 API는 얼마나 많은 사람들이 지금 우주(space)에 있는지를 보여주는 API\n",
    "# 사실상 ISS에 누가 있나 신상확인하는 부분\n",
    "url3 = \"http://api.open-notify.org/astros.json\"\n",
    "r3 = requests.get(url3)\n",
    "\n",
    "# 현재 ISS의 위치\n",
    "print(r.text)\n",
    "print(\"=\"*120)\n",
    "\n",
    "# 내 위치에 ISS가 올 시각\n",
    "print(r2.text)\n",
    "print(\"=\"*120)\n",
    "\n",
    "# 얼마나 많은 사람들이 space 상에 있는지를 보여줌\n",
    "# 예 > 어떤 craft(우주선)에 name(이름)은 뭐시기다 이렇게 보여줌\n",
    "print(r3.text)"
   ]
  },
  {
   "cell_type": "code",
   "execution_count": 23,
   "metadata": {},
   "outputs": [
    {
     "name": "stdout",
     "output_type": "stream",
     "text": [
      "<class 'dict'> <class 'dict'> <class 'dict'>\n"
     ]
    }
   ],
   "source": [
    "# 앞에서 살펴본 json 라이브러리의 'json.loads()'를 활용 JSON 형태의 data를 Python dictionary로 변경한다\n",
    "json_to_dict = json.loads(r.text)\n",
    "json_to_dict2 = json.loads(r2.text)\n",
    "json_to_dict3 = json.loads(r3.text)\n",
    "\n",
    "print(type(json_to_dict), type(json_to_dict2), type(json_to_dict3)) "
   ]
  },
  {
   "cell_type": "code",
   "execution_count": 24,
   "metadata": {},
   "outputs": [],
   "source": [
    "# 앞에서 웹 API 응답(r)에서 'r.text'를 이용, JSON 형태의 데이터를 가져온 후 'json.loads()'로\n",
    "# JSON 형태의 데이터를 dictionary 형태의 데이터로 변환 -> r.json() 으로 단순화가 가능하다\n",
    "import requests\n",
    "\n",
    "url = \"http://api.open-notify.org/iss-now.json\"\n",
    "\n",
    "LAT = '37.40' # 위도 \n",
    "LON = '126.37' # 경도\n",
    "url2 = \"http://api.open-notify.org/iss-pass.json\"\n",
    "req_param = {\"lat\": LAT, \"lon\": LON}\n",
    "\n",
    "url3 = \"http://api.open-notify.org/astros.json\"\n",
    "\n",
    "r = requests.get(url)\n",
    "r2 = requests.get(url2, params = req_param)\n",
    "r3 = requests.get(url3)\n",
    "\n",
    "json_to_dict = r.json() # 간결화\n",
    "json_to_dict2 = r2.json() # 간결화\n",
    "json_to_dict3 = r3.json() # 간결화"
   ]
  },
  {
   "cell_type": "code",
   "execution_count": 25,
   "metadata": {},
   "outputs": [],
   "source": [
    "# 위 코드를 좀 더 단순화\n",
    "import requests\n",
    "\n",
    "url = \"http://api.open-notify.org/iss-now.json\"\n",
    "\n",
    "LAT = '37.40' # 위도 \n",
    "LON = '126.37' # 경도\n",
    "url2 = \"http://api.open-notify.org/iss-pass.json\"\n",
    "req_param = {\"lat\": LAT, \"lon\": LON}\n",
    "\n",
    "url3 = \"http://api.open-notify.org/astros.json\"\n",
    "\n",
    "json_to_dict = requests.get(url).json()\n",
    "json_to_dict2 = requests.get(url2, params = req_param).json()\n",
    "json_to_dict3 = requests.get(url3).json()"
   ]
  },
  {
   "cell_type": "code",
   "execution_count": 26,
   "metadata": {},
   "outputs": [
    {
     "name": "stdout",
     "output_type": "stream",
     "text": [
      "{'message': 'success', 'iss_position': {'longitude': '108.6703', 'latitude': '-9.6239'}, 'timestamp': 1558345218}\n",
      "===========================================================================================================================================\n",
      "{'message': 'success', 'request': {'altitude': 100, 'datetime': 1558343831, 'latitude': 37.4, 'longitude': 126.37, 'passes': 5}, 'response': [{'duration': 476, 'risetime': 1558345754}, {'duration': 644, 'risetime': 1558351434}, {'duration': 564, 'risetime': 1558357294}, {'duration': 465, 'risetime': 1558363211}, {'duration': 535, 'risetime': 1558369049}]}\n",
      "===========================================================================================================================================\n",
      "{'message': 'success', 'number': 6, 'people': [{'craft': 'ISS', 'name': 'Oleg Kononenko'}, {'craft': 'ISS', 'name': 'David Saint-Jacques'}, {'craft': 'ISS', 'name': 'Anne McClain'}, {'craft': 'ISS', 'name': 'Alexey Ovchinin'}, {'craft': 'ISS', 'name': 'Nick Hague'}, {'craft': 'ISS', 'name': 'Christina Koch'}]}\n"
     ]
    }
   ],
   "source": [
    "# 위의 결과 출력\n",
    "print(json_to_dict)\n",
    "print(\"=\"*139)\n",
    "print(json_to_dict2)\n",
    "print(\"=\"*139)\n",
    "print(json_to_dict3)"
   ]
  },
  {
   "cell_type": "code",
   "execution_count": 27,
   "metadata": {},
   "outputs": [
    {
     "name": "stdout",
     "output_type": "stream",
     "text": [
      "success\n",
      "{'longitude': '108.6703', 'latitude': '-9.6239'}\n",
      "-9.6239\n",
      "108.6703\n",
      "1558345218\n",
      "===========================================================================================================================================\n",
      "success\n",
      "100\n",
      "1558343831\n",
      "37.4\n",
      "126.37\n",
      "[{'duration': 476, 'risetime': 1558345754}, {'duration': 644, 'risetime': 1558351434}, {'duration': 564, 'risetime': 1558357294}, {'duration': 465, 'risetime': 1558363211}, {'duration': 535, 'risetime': 1558369049}]\n",
      "476\n",
      "1558345754\n",
      "===========================================================================================================================================\n",
      "success\n",
      "[{'craft': 'ISS', 'name': 'Oleg Kononenko'}, {'craft': 'ISS', 'name': 'David Saint-Jacques'}, {'craft': 'ISS', 'name': 'Anne McClain'}, {'craft': 'ISS', 'name': 'Alexey Ovchinin'}, {'craft': 'ISS', 'name': 'Nick Hague'}, {'craft': 'ISS', 'name': 'Christina Koch'}]\n",
      "{'craft': 'ISS', 'name': 'Oleg Kononenko'}\n",
      "{'craft': 'ISS', 'name': 'David Saint-Jacques'}\n",
      "{'craft': 'ISS', 'name': 'Anne McClain'}\n"
     ]
    }
   ],
   "source": [
    "# 딕셔너리 타입 변환 후 원하는 데이터만 가져올 수 있습니다.\n",
    "print(json_to_dict[\"message\"])\n",
    "print(json_to_dict[\"iss_position\"])\n",
    "print(json_to_dict[\"iss_position\"][\"latitude\"])\n",
    "print(json_to_dict[\"iss_position\"][\"longitude\"])\n",
    "print(json_to_dict[\"timestamp\"])\n",
    "print(\"=\"*139)\n",
    "print(json_to_dict2[\"message\"])\n",
    "print(json_to_dict2[\"request\"][\"altitude\"])\n",
    "print(json_to_dict2[\"request\"][\"datetime\"])\n",
    "print(json_to_dict2[\"request\"][\"latitude\"])\n",
    "print(json_to_dict2[\"request\"][\"longitude\"])\n",
    "print(json_to_dict2[\"response\"])\n",
    "print(json_to_dict2[\"response\"][0][\"duration\"])\n",
    "print(json_to_dict2[\"response\"][0][\"risetime\"])\n",
    "print(\"=\"*139)\n",
    "print(json_to_dict3[\"message\"])\n",
    "print(json_to_dict3[\"people\"])\n",
    "print(json_to_dict3[\"people\"][0])\n",
    "print(json_to_dict3[\"people\"][1])\n",
    "print(json_to_dict3[\"people\"][2])"
   ]
  },
  {
   "cell_type": "code",
   "execution_count": 28,
   "metadata": {},
   "outputs": [
    {
     "name": "stdout",
     "output_type": "stream",
     "text": [
      "{'longitude': '108.6889', 'latitude': '-9.5987'}\n",
      "{'longitude': '109.0789', 'latitude': '-9.0691'}\n",
      "{'longitude': '109.4491', 'latitude': '-8.5641'}\n",
      "{'longitude': '109.8367', 'latitude': '-8.0335'}\n",
      "{'longitude': '110.2232', 'latitude': '-7.5024'}\n",
      "{'longitude': '110.5903', 'latitude': '-6.9962'}\n",
      "{'longitude': '110.9748', 'latitude': '-6.4643'}\n",
      "{'longitude': '111.3402', 'latitude': '-5.9574'}\n",
      "{'longitude': '111.7230', 'latitude': '-5.4247'}\n",
      "{'longitude': '112.0869', 'latitude': '-4.9172'}\n"
     ]
    }
   ],
   "source": [
    "# 국제우주정거장 API를 이용하여 국제우주정거장의 위치 정보를 일정 시간(여기서는 10초)마다 갱신하는 코드를 작성합니다\n",
    "import requests\n",
    "import time\n",
    "\n",
    "url = \"http://api.open-notify.org/iss-now.json\"\n",
    "\n",
    "LAT = '37.40' # 위도 \n",
    "LON = '126.37' # 경도\n",
    "url2 = \"http://api.open-notify.org/iss-pass.json\"\n",
    "req_param = {\"lat\": LAT, \"lon\": LON}\n",
    "\n",
    "url3 = \"http://api.open-notify.org/astros.json\"\n",
    "\n",
    "def ISS_Position(iss_position_api_url):\n",
    "    json_to_dict = requests.get(iss_position_api_url).json()\n",
    "    return json_to_dict[\"iss_position\"]\n",
    "\n",
    "def ISS_passed_on_Gimpo(iss_passed_api_url, req_param):\n",
    "    json_to_dict2 = requests.get(iss_passed_api_url, params = req_param)\n",
    "    return json_to_dict2[\"response\"]\n",
    "\n",
    "def ISS_Crew_in_space(iss_astros_api_url):\n",
    "    json_to_dict3 = requests.get(iss_astros_api_url)\n",
    "    return json_to_dict3[\"people\"]\n",
    "\n",
    "for i in range(10):\n",
    "    print(ISS_Position(url))\n",
    "    # 안되는 부분 수정해서 같이 출력될 수 있도록 조치필요\n",
    "#     print(ISS_passed_on_Gimpo(url2, req_param))\n",
    "#     print(ISS_Crew_in_space(url3))\n",
    "    time.sleep(10)"
   ]
  },
  {
   "cell_type": "code",
   "execution_count": 29,
   "metadata": {},
   "outputs": [
    {
     "name": "stdout",
     "output_type": "stream",
     "text": [
      "[{\"name\":\"South Korea\",\"topLevelDomain\":[\".kr\"],\"alpha2Code\":\"KR\",\"alpha3Code\":\"KOR\",\"callingCodes\":[\"82\"],\"capital\":\"Seoul\",\"altSpellings\":[\"KR\",\"Republic of Korea\"],\"region\":\"Asia\",\"subregion\":\"Eastern Asia\",\"population\":51448183,\"latlng\":[37.0,127.5],\"demonym\":\"South Korean\",\"area\":100210.0,\"gini\":31.3,\"timezones\":[\"UTC+09:00\"],\"borders\":[\"PRK\"],\"nativeName\":\"대한민국\",\"numericCode\":\"410\",\"currencies\":[\"KRW\"],\"languages\":[\"ko\"],\"translations\":{\"de\":\"Südkorea\",\"es\":\"Corea del Sur\",\"fr\":\"Corée du Sud\",\"ja\":\"大韓民国\",\"it\":\"Corea del Sud\"},\"relevance\":\"1.5\"}]\n"
     ]
    }
   ],
   "source": [
    "# 국가 관련 정보를 웹 API로 제공함(https://restcountries.eu/)\n",
    "import requests\n",
    "\n",
    "# 책하고 url 다른거 확인하고 작성할것!\n",
    "url_temp = \"https://restcountries.eu/rest/v1/name/\"\n",
    "country = \"South Korea\"\n",
    "url = url_temp + country\n",
    "\n",
    "r = requests.get(url)\n",
    "\n",
    "print(r.text)"
   ]
  },
  {
   "cell_type": "code",
   "execution_count": 30,
   "metadata": {},
   "outputs": [
    {
     "data": {
      "text/plain": [
       "[{'name': 'South Korea',\n",
       "  'topLevelDomain': ['.kr'],\n",
       "  'alpha2Code': 'KR',\n",
       "  'alpha3Code': 'KOR',\n",
       "  'callingCodes': ['82'],\n",
       "  'capital': 'Seoul',\n",
       "  'altSpellings': ['KR', 'Republic of Korea'],\n",
       "  'region': 'Asia',\n",
       "  'subregion': 'Eastern Asia',\n",
       "  'population': 51448183,\n",
       "  'latlng': [37.0, 127.5],\n",
       "  'demonym': 'South Korean',\n",
       "  'area': 100210.0,\n",
       "  'gini': 31.3,\n",
       "  'timezones': ['UTC+09:00'],\n",
       "  'borders': ['PRK'],\n",
       "  'nativeName': '대한민국',\n",
       "  'numericCode': '410',\n",
       "  'currencies': ['KRW'],\n",
       "  'languages': ['ko'],\n",
       "  'translations': {'de': 'Südkorea',\n",
       "   'es': 'Corea del Sur',\n",
       "   'fr': 'Corée du Sud',\n",
       "   'ja': '大韓民国',\n",
       "   'it': 'Corea del Sud'},\n",
       "  'relevance': '1.5'}]"
      ]
     },
     "execution_count": 30,
     "metadata": {},
     "output_type": "execute_result"
    }
   ],
   "source": [
    "# JSON 형식의 파일을 파이썬 데이터 형태로 변환\n",
    "json_to_list = requests.get(url).json()\n",
    "json_to_list"
   ]
  },
  {
   "cell_type": "code",
   "execution_count": 31,
   "metadata": {},
   "outputs": [
    {
     "data": {
      "text/plain": [
       "'Seoul'"
      ]
     },
     "execution_count": 31,
     "metadata": {},
     "output_type": "execute_result"
    }
   ],
   "source": [
    "# 변수 json_to_list에서 나라의 수도(Capital) 추출\n",
    "json_to_list[0][\"capital\"]"
   ]
  },
  {
   "cell_type": "code",
   "execution_count": 32,
   "metadata": {},
   "outputs": [
    {
     "name": "stdout",
     "output_type": "stream",
     "text": [
      "*South Korea: Seoul\n",
      "*United States of America: Washington, D.C.\n",
      "*United Kingdom: London\n",
      "*France: Paris\n",
      "*Germany: Berlin\n",
      "*Japan: Tokyo\n",
      "*China: Beijing\n"
     ]
    }
   ],
   "source": [
    "# 위의 내용을 활용하여 여러개의 나라 정보를 웹 API를 통해 가져오는 예제 작성\n",
    "import requests\n",
    "import json\n",
    "\n",
    "countries = [\"South Korea\", \"United States of America\", \"United Kingdom\", \"France\", \"Germany\", \"Japan\", \"China\"]\n",
    "\n",
    "def country_to_capital(country):\n",
    "    url_temp = \"https://restcountries.eu/rest/v1/name/\"\n",
    "    url = url_temp + country\n",
    "    json_to_list = requests.get(url).json()\n",
    "    return json_to_list[0][\"capital\"]\n",
    "\n",
    "for country in countries:\n",
    "    capital = country_to_capital(country)\n",
    "    print(\"*{0}: {1}\".format(country, capital))"
   ]
  },
  {
   "cell_type": "markdown",
   "metadata": {},
   "source": [
    "### Twitter api 사용 예제"
   ]
  },
  {
   "cell_type": "code",
   "execution_count": 33,
   "metadata": {},
   "outputs": [],
   "source": [
    "## Twitter api using examples\n",
    "import tweepy\n",
    "\n",
    "# 트위터 key 및 token\n",
    "# consumer_key = 'your-twitter-consumer-key'\n",
    "# consumer_secret = 'your-consumer-secret-key'\n",
    "\n",
    "# access_token = 'your-access-token'\n",
    "# access_secret = 'your-access-secet'"
   ]
  },
  {
   "cell_type": "code",
   "execution_count": 34,
   "metadata": {},
   "outputs": [],
   "source": [
    "auth = tweepy.OAuthHandler(consumer_key, consumer_secret)\n",
    "auth.set_access_token(access_token, access_secret)"
   ]
  },
  {
   "cell_type": "code",
   "execution_count": 35,
   "metadata": {},
   "outputs": [],
   "source": [
    "api = tweepy.API(auth)"
   ]
  },
  {
   "cell_type": "code",
   "execution_count": 36,
   "metadata": {},
   "outputs": [
    {
     "name": "stdout",
     "output_type": "stream",
     "text": [
      "name: ybear90_twit_test\n"
     ]
    }
   ],
   "source": [
    "print(\"name:\", api.me().name)"
   ]
  },
  {
   "cell_type": "code",
   "execution_count": 37,
   "metadata": {},
   "outputs": [],
   "source": [
    "# twit 작성 예제\n",
    "# tweet_update_status = api.update_status('파이썬에서 Tweepy 라이브러리를 이용한 첫 번째 트윗')"
   ]
  },
  {
   "cell_type": "code",
   "execution_count": 38,
   "metadata": {},
   "outputs": [],
   "source": [
    "# 트위터에 이미지 파일 올리는 api예제\n",
    "tweet_media_update_status = api.update_with_media(\"./image_test.png\")"
   ]
  },
  {
   "cell_type": "code",
   "execution_count": 39,
   "metadata": {},
   "outputs": [
    {
     "name": "stdout",
     "output_type": "stream",
     "text": [
      "* https://t.co/q8OGDVpQBB\n",
      "* 애니메이션 버전 다크 소울 '코드 베인'의 네트워크 테스트 일정이 공개됐습니다. 북미와 유럽 지역은 5월 31일 부터 4일 간 테스트에 참여할 수 있다고 하는데, 아시아 지역은 아직 미정이랍니다. 얼른 아시… https://t.co/FIyTHeTBNx\n"
     ]
    }
   ],
   "source": [
    "# Timeline에서 메세지 가져오기\n",
    "# Cursor(api.home_timeline).items([n])\n",
    "for status in tweepy.Cursor(api.home_timeline).items(2):\n",
    "    print(\"*\", status.text)"
   ]
  },
  {
   "cell_type": "code",
   "execution_count": 40,
   "metadata": {},
   "outputs": [
    {
     "name": "stdout",
     "output_type": "stream",
     "text": [
      "* https://t.co/q8OGDVpQBB\n",
      " => Created at Mon May 20 09:42:08 +0000 2019\n",
      "* 애니메이션 버전 다크 소울 '코드 베인'의 네트워크 테스트 일정이 공개됐습니다. 북미와 유럽 지역은 5월 31일 부터 4일 간 테스트에 참여할 수 있다고 하는데, 아시아 지역은 아직 미정이랍니다. 얼른 아시… https://t.co/FIyTHeTBNx\n",
      " => Created at Mon May 20 09:29:47 +0000 2019\n"
     ]
    }
   ],
   "source": [
    "# status._json을 이용하여 딕셔너리 형태로 가져오기\n",
    "# 메세지 생성시간 기준은 미국시간 기준인 듯 하다\n",
    "for status in tweepy.Cursor(api.home_timeline).items(2):\n",
    "    print(\"*\", status._json['text'])\n",
    "    print(\" => Created at\", status._json['created_at'])"
   ]
  },
  {
   "cell_type": "markdown",
   "metadata": {},
   "source": [
    "#### Twitter Streaming API 사용하여 실시간으로 특정 키워드에 대한 게시물 트윗"
   ]
  },
  {
   "cell_type": "code",
   "execution_count": 41,
   "metadata": {},
   "outputs": [],
   "source": [
    "# Tweepy의 StreamingListener를 상속받아 클래스 정의\n",
    "import tweepy\n",
    "class MyStreamListener(tweepy.StreamListener):\n",
    "    def on_status(self, status):\n",
    "        print(status.text) # 140자까지 출력"
   ]
  },
  {
   "cell_type": "code",
   "execution_count": 42,
   "metadata": {},
   "outputs": [],
   "source": [
    "# 정의한 클래스를 이용해 객체 생성\n",
    "myStreamListener = MyStreamListener()"
   ]
  },
  {
   "cell_type": "code",
   "execution_count": 43,
   "metadata": {},
   "outputs": [],
   "source": [
    "# 생성한 객체를 Tweepy의 Stream을 이용해 트위터 Stream API와 연결\n",
    "myStream = tweepy.Stream(auth, myStreamListener)"
   ]
  },
  {
   "cell_type": "code",
   "execution_count": 44,
   "metadata": {},
   "outputs": [],
   "source": [
    "# Stream의 Filter를 이용해 단어를 지정하고 Stream을 시작\n",
    "# 갯수 지정을 안하면 무한정 트윗 하므로 일단 클래스 수정 후에 실행 권장\n",
    "# myStream.filter(track = ['파이썬', 'python'])"
   ]
  },
  {
   "cell_type": "code",
   "execution_count": 45,
   "metadata": {},
   "outputs": [],
   "source": [
    "# Tweepy의 StreamingListener를 상속받아 클래스 정의(재정의)\n",
    "class MyStreamListener(tweepy.StreamListener):\n",
    "    def __init__(self):\n",
    "        super().__init__()\n",
    "        self.tweet_num = 0\n",
    "    \n",
    "    def on_status(self, status):\n",
    "        self.tweet_num = self.tweet_num + 1\n",
    "        if self.tweet_num <= 5:\n",
    "            print(\"***\", status.text) # 140자까지 출력\n",
    "            return True\n",
    "        else:\n",
    "            return False"
   ]
  },
  {
   "cell_type": "code",
   "execution_count": 46,
   "metadata": {},
   "outputs": [
    {
     "name": "stdout",
     "output_type": "stream",
     "text": [
      "*** Machine learning speeds modeling of experiments aimed at capturing fusion energy on Earth https://t.co/dlI6k2J3aG https://t.co/bjUa9XAbpA\n",
      "*** RT @Laboegalite: Le prochain correcteur de Word sera...féministe ! Exploitant le machine learning de l'IA, ce nouvel outil constitue une av…\n",
      "*** Cette image résume 99% des cas où les gens parlent AI et Machine learning ^^\n",
      "*** The importance of machine learning in your digital marketing strategy #DigitalMarketing #MachineLearning  https://t.co/LwYnEynRor\n",
      "*** How AI and Machine Learning Can Supercharge Your Social Media Marketing #SocialMedia #AI #MachineLearning  https://t.co/mpTtfoq5zF\n"
     ]
    }
   ],
   "source": [
    "# 키워드를 지정해 트위터에서 메세지를 가져오기\n",
    "myStreamListener = MyStreamListener()\n",
    "myStream = tweepy.Stream(auth, myStreamListener)\n",
    "myStream.filter(track = ['머신 러닝', 'Machine Learning'])"
   ]
  },
  {
   "cell_type": "code",
   "execution_count": 47,
   "metadata": {},
   "outputs": [
    {
     "name": "stdout",
     "output_type": "stream",
     "text": [
      "End of streaming!\n"
     ]
    }
   ],
   "source": [
    "# 위의 코드를 종합한 예제\n",
    "import tweepy\n",
    "\n",
    "# 키, 토큰, 비밀번호 지정\n",
    "# consumer_key = 'your-twitter-consumer-key'\n",
    "# consumer_secret = 'your-consumer-secret-key'\n",
    "\n",
    "# access_token = 'your-access-token'\n",
    "# access_secret = 'your-access-secet'\n",
    "\n",
    "# OAuth 인증 진행\n",
    "auth = tweepy.OAuthHandler(consumer_key, consumer_secret)\n",
    "auth.set_access_token(access_token, access_secret)\n",
    "\n",
    "# 인증된 auth 변수를 이용하여 twitte API 클래스 정의\n",
    "class MyStreamListener2(tweepy.StreamListener):\n",
    "    def __init__(self, max_num):\n",
    "        super().__init__()\n",
    "        self.tweet_num = 0\n",
    "        self.max_num = max_num\n",
    "    \n",
    "    def on_status(self, status):\n",
    "        self.tweet_num = self.tweet_num + 1\n",
    "        file_name = './twitter_stream_test.txt'\n",
    "        if self.tweet_num <= self.max_num:\n",
    "            with open(file_name, 'a', encoding = 'utf-8') as f:\n",
    "                write_text = \"*** \" + status.text + \"\\n\"\n",
    "                f.write(write_text)\n",
    "            return True\n",
    "        else:\n",
    "            return False\n",
    "    \n",
    "    def on_error(self, status):\n",
    "        print(status) # 오류 메세지 출력\n",
    "        return False\n",
    "    \n",
    "if __name__ == '__main__':\n",
    "    myStreamListener = MyStreamListener2(5)\n",
    "    myStream = tweepy.Stream(auth, myStreamListener)\n",
    "    myStream.filter(track = ['머신 러닝', 'Machine Learning'])\n",
    "    print(\"End of streaming!\")"
   ]
  },
  {
   "cell_type": "markdown",
   "metadata": {},
   "source": [
    "### 정부의 공공 데이터 가져오기"
   ]
  },
  {
   "cell_type": "code",
   "execution_count": 48,
   "metadata": {},
   "outputs": [
    {
     "data": {
      "text/plain": [
       "'iH83FPn541jSnsh9ltgyYxIAOBpM0rJbAWxZ7yprBW5dKNElaUKLQwiGzZdh1zJgoXk/G/RGSEOywu5GmPlV9g=='"
      ]
     },
     "execution_count": 48,
     "metadata": {},
     "output_type": "execute_result"
    }
   ],
   "source": [
    "# 도로명 주소 조회 서비스를 이용한 새 우편번호 호출 예제\n",
    "import requests\n",
    "\n",
    "# API_KEY = 'YOUR-API-KEY' # 자신의 인증키를 복사해서 입력합니다.\n",
    "# API_KEY는 URL 인코딩 된 상태로 제공되므로 'requests.get()' 의 파라미터로 입력하기 전에 'requests.utils.unquote()'\n",
    "# 로 디코딩 해야 합니다. 이를 구현한 코드는 다음과 같습니다.\n",
    "API_KEY_decode = requests.utils.unquote(API_KEY)\n",
    "API_KEY_decode"
   ]
  },
  {
   "cell_type": "code",
   "execution_count": 49,
   "metadata": {},
   "outputs": [
    {
     "name": "stdout",
     "output_type": "stream",
     "text": [
      "<?xml version=\"1.0\" encoding=\"UTF-8\" standalone=\"yes\"?><NewAddressListResponse><cmmMsgHeader><requestMsgId></requestMsgId><responseMsgId></responseMsgId><responseTime>20190520:184527135</responseTime><successYN>Y</successYN><returnCode>00</returnCode><errMsg></errMsg><totalCount>1</totalCount><countPerPage>10</countPerPage><totalPage>1</totalPage><currentPage></currentPage></cmmMsgHeader><newAddressListAreaCd><zipNo>10111</zipNo><lnmAdres>경기도 김포시 사우로 51 (사우동, 김포사우아이파크)</lnmAdres><rnAdres>경기도 김포시 사우동 1481 김포사우아이파크</rnAdres></newAddressListAreaCd></NewAddressListResponse>\n"
     ]
    }
   ],
   "source": [
    "# 도로명 주소를 지정해 데이터를 가져오는 예제 코드입니다.\n",
    "req_url = \"http://openapi.epost.go.kr/postal/retrieveNewAdressAreaCdService/retrieveNewAdressAreaCdService/getNewAddressListAreaCd\"\n",
    "\n",
    "search_Se = \"road\"\n",
    "srch_wrd = \"사우로 51\" # 우리집 주소다\n",
    "\n",
    "req_parameter = {\"ServiceKey\": API_KEY_decode, \"searchSe\": search_Se, \"srchwrd\": srch_wrd}\n",
    "\n",
    "r = requests.get(req_url, params = req_parameter)\n",
    "xml_data = r.text\n",
    "print(xml_data)"
   ]
  },
  {
   "cell_type": "code",
   "execution_count": 50,
   "metadata": {},
   "outputs": [
    {
     "data": {
      "text/plain": [
       "OrderedDict([('NewAddressListResponse',\n",
       "              OrderedDict([('cmmMsgHeader',\n",
       "                            OrderedDict([('requestMsgId', None),\n",
       "                                         ('responseMsgId', None),\n",
       "                                         ('responseTime',\n",
       "                                          '20190520:184527135'),\n",
       "                                         ('successYN', 'Y'),\n",
       "                                         ('returnCode', '00'),\n",
       "                                         ('errMsg', None),\n",
       "                                         ('totalCount', '1'),\n",
       "                                         ('countPerPage', '10'),\n",
       "                                         ('totalPage', '1'),\n",
       "                                         ('currentPage', None)])),\n",
       "                           ('newAddressListAreaCd',\n",
       "                            OrderedDict([('zipNo', '10111'),\n",
       "                                         ('lnmAdres',\n",
       "                                          '경기도 김포시 사우로 51 (사우동, 김포사우아이파크)'),\n",
       "                                         ('rnAdres',\n",
       "                                          '경기도 김포시 사우동 1481 김포사우아이파크')]))]))])"
      ]
     },
     "execution_count": 50,
     "metadata": {},
     "output_type": "execute_result"
    }
   ],
   "source": [
    "import xmltodict\n",
    "\n",
    "# 출력형식이 xml 인것을 python dictionary 형태로 변경 해 줍니다.\n",
    "dict_data = xmltodict.parse(xml_data)\n",
    "dict_data"
   ]
  },
  {
   "cell_type": "code",
   "execution_count": 51,
   "metadata": {},
   "outputs": [
    {
     "name": "stdout",
     "output_type": "stream",
     "text": [
      "[입력한 도로명 주소] 사우로 51\n",
      "[응답 데이터에서 추출한 결과]\n",
      "- 우편번호: 10111\n",
      "- 도로명 주소: 경기도 김포시 사우로 51 (사우동, 김포사우아이파크)\n",
      "- 지번 주소: 경기도 김포시 사우동 1481 김포사우아이파크\n"
     ]
    }
   ],
   "source": [
    "# Python dictionary 타입으로 변환된 변수의 결과를 분석(dict_data), 우편번호, 도로명 주소, 지번 주소를 추출합니다\n",
    "address_list = dict_data['NewAddressListResponse']['newAddressListAreaCd']\n",
    "\n",
    "print(\"[입력한 도로명 주소]\", srch_wrd)\n",
    "print(\"[응답 데이터에서 추출한 결과]\")\n",
    "print(\"- 우편번호:\", address_list['zipNo'])\n",
    "print(\"- 도로명 주소:\", address_list['lnmAdres'])\n",
    "print(\"- 지번 주소:\", address_list['rnAdres'])"
   ]
  },
  {
   "cell_type": "code",
   "execution_count": 100,
   "metadata": {},
   "outputs": [
    {
     "data": {
      "text/plain": [
       "'iH83FPn541jSnsh9ltgyYxIAOBpM0rJbAWxZ7yprBW5dKNElaUKLQwiGzZdh1zJgoXk/G/RGSEOywu5GmPlV9g=='"
      ]
     },
     "execution_count": 100,
     "metadata": {},
     "output_type": "execute_result"
    }
   ],
   "source": [
    "# 동네예보정보조회서비스 API를 이용하여 지금 우리집 날씨를 알아봅니다(김포시 사우동 살아요)\n",
    "import requests\n",
    "\n",
    "# API_KEY = 'YOUR-API-KEY'\n",
    "API_KEY_decode = requests.utils.unquote(API_KEY)\n",
    "API_KEY_decode"
   ]
  },
  {
   "cell_type": "code",
   "execution_count": 101,
   "metadata": {},
   "outputs": [
    {
     "name": "stdout",
     "output_type": "stream",
     "text": [
      "2019-05-20 18:58:28.827844\n"
     ]
    },
    {
     "data": {
      "text/plain": [
       "{'response': {'header': {'resultCode': '0000', 'resultMsg': 'OK'},\n",
       "  'body': {'items': {'item': [{'baseDate': 20190520,\n",
       "      'baseTime': 1800,\n",
       "      'category': 'REH',\n",
       "      'fcstDate': 20190520,\n",
       "      'fcstTime': 2200,\n",
       "      'fcstValue': '-',\n",
       "      'nx': 55,\n",
       "      'ny': 128},\n",
       "     {'baseDate': 20190520,\n",
       "      'baseTime': 1800,\n",
       "      'category': 'REH',\n",
       "      'fcstDate': 20190521,\n",
       "      'fcstTime': '0100',\n",
       "      'fcstValue': '-',\n",
       "      'nx': 55,\n",
       "      'ny': 128},\n",
       "     {'baseDate': 20190520,\n",
       "      'baseTime': 1800,\n",
       "      'category': 'REH',\n",
       "      'fcstDate': 20190521,\n",
       "      'fcstTime': '0400',\n",
       "      'fcstValue': '-',\n",
       "      'nx': 55,\n",
       "      'ny': 128},\n",
       "     {'baseDate': 20190520,\n",
       "      'baseTime': 1800,\n",
       "      'category': 'REH',\n",
       "      'fcstDate': 20190521,\n",
       "      'fcstTime': '0700',\n",
       "      'fcstValue': '-',\n",
       "      'nx': 55,\n",
       "      'ny': 128},\n",
       "     {'baseDate': 20190520,\n",
       "      'baseTime': 1800,\n",
       "      'category': 'REH',\n",
       "      'fcstDate': 20190521,\n",
       "      'fcstTime': 1000,\n",
       "      'fcstValue': '-',\n",
       "      'nx': 55,\n",
       "      'ny': 128},\n",
       "     {'baseDate': 20190520,\n",
       "      'baseTime': 1800,\n",
       "      'category': 'REH',\n",
       "      'fcstDate': 20190521,\n",
       "      'fcstTime': 1300,\n",
       "      'fcstValue': '-',\n",
       "      'nx': 55,\n",
       "      'ny': 128},\n",
       "     {'baseDate': 20190520,\n",
       "      'baseTime': 1800,\n",
       "      'category': 'REH',\n",
       "      'fcstDate': 20190521,\n",
       "      'fcstTime': 1600,\n",
       "      'fcstValue': '-',\n",
       "      'nx': 55,\n",
       "      'ny': 128},\n",
       "     {'baseDate': 20190520,\n",
       "      'baseTime': 1800,\n",
       "      'category': 'REH',\n",
       "      'fcstDate': 20190521,\n",
       "      'fcstTime': 1900,\n",
       "      'fcstValue': '-',\n",
       "      'nx': 55,\n",
       "      'ny': 128},\n",
       "     {'baseDate': 20190520,\n",
       "      'baseTime': 1800,\n",
       "      'category': 'REH',\n",
       "      'fcstDate': 20190521,\n",
       "      'fcstTime': 2200,\n",
       "      'fcstValue': '-',\n",
       "      'nx': 55,\n",
       "      'ny': 128},\n",
       "     {'baseDate': 20190520,\n",
       "      'baseTime': 1800,\n",
       "      'category': 'REH',\n",
       "      'fcstDate': 20190522,\n",
       "      'fcstTime': '0100',\n",
       "      'fcstValue': '-',\n",
       "      'nx': 55,\n",
       "      'ny': 128},\n",
       "     {'baseDate': 20190520,\n",
       "      'baseTime': 1800,\n",
       "      'category': 'REH',\n",
       "      'fcstDate': 20190522,\n",
       "      'fcstTime': '0400',\n",
       "      'fcstValue': '-',\n",
       "      'nx': 55,\n",
       "      'ny': 128},\n",
       "     {'baseDate': 20190520,\n",
       "      'baseTime': 1800,\n",
       "      'category': 'REH',\n",
       "      'fcstDate': 20190522,\n",
       "      'fcstTime': '0700',\n",
       "      'fcstValue': '-',\n",
       "      'nx': 55,\n",
       "      'ny': 128},\n",
       "     {'baseDate': 20190520,\n",
       "      'baseTime': 1800,\n",
       "      'category': 'REH',\n",
       "      'fcstDate': 20190522,\n",
       "      'fcstTime': 1000,\n",
       "      'fcstValue': '-',\n",
       "      'nx': 55,\n",
       "      'ny': 128},\n",
       "     {'baseDate': 20190520,\n",
       "      'baseTime': 1800,\n",
       "      'category': 'REH',\n",
       "      'fcstDate': 20190522,\n",
       "      'fcstTime': 1300,\n",
       "      'fcstValue': '-',\n",
       "      'nx': 55,\n",
       "      'ny': 128},\n",
       "     {'baseDate': 20190520,\n",
       "      'baseTime': 1800,\n",
       "      'category': 'REH',\n",
       "      'fcstDate': 20190522,\n",
       "      'fcstTime': 1600,\n",
       "      'fcstValue': '-',\n",
       "      'nx': 55,\n",
       "      'ny': 128},\n",
       "     {'baseDate': 20190520,\n",
       "      'baseTime': 1800,\n",
       "      'category': 'REH',\n",
       "      'fcstDate': 20190522,\n",
       "      'fcstTime': 1900,\n",
       "      'fcstValue': '-',\n",
       "      'nx': 55,\n",
       "      'ny': 128},\n",
       "     {'baseDate': 20190520,\n",
       "      'baseTime': 1800,\n",
       "      'category': 'REH',\n",
       "      'fcstDate': 20190522,\n",
       "      'fcstTime': 2200,\n",
       "      'fcstValue': '-',\n",
       "      'nx': 55,\n",
       "      'ny': 128},\n",
       "     {'baseDate': 20190520,\n",
       "      'baseTime': 1800,\n",
       "      'category': 'REH',\n",
       "      'fcstDate': 20190523,\n",
       "      'fcstTime': '0100',\n",
       "      'fcstValue': '-',\n",
       "      'nx': 55,\n",
       "      'ny': 128}]},\n",
       "   'numOfRows': 30,\n",
       "   'pageNo': 1,\n",
       "   'totalCount': 18}}}"
      ]
     },
     "execution_count": 101,
     "metadata": {},
     "output_type": "execute_result"
    }
   ],
   "source": [
    "import json\n",
    "import datetime\n",
    "\n",
    "# [날짜 및 시간 설정]\n",
    "now = datetime.datetime.now() # 현재 날짜 및 시간 반환\n",
    "print(now)\n",
    "\n",
    "# baseDate에 날짜를 입력하기 위해 날짜를 출력 형식을 지정해 변수에 할당\n",
    "date = \"{:%Y%m%d}\".format(now)\n",
    "\n",
    "# baseTime에 시간(정시)를 입력하기 위해 출력 형식을 지정해 시간만 변수에 할당\n",
    "time = \"{:%H00}\".format(now)\n",
    "\n",
    "# 현재 분이 30분 이전이면 이전 시간(정시)을 설정\\\n",
    "# 날씨 발표 갱신 시각이 매시 30분 마다 이므로 아래와 같이 시간에 대한 조건 설정을 해둔다\n",
    "if now.minute >= 30:\n",
    "    time = \"{0}00\".format(now.hour)\n",
    "else:\n",
    "    time = \"{0}00\".format(now.hour - 1)\n",
    "\n",
    "# [요청 주소 및 요청 변수 지정]\n",
    "req_url = \"http://newsky2.kma.go.kr/service/SecndSrtpdFrcstInfoService2/ForecastSpaceData\"\n",
    "\n",
    "baseDate = date # 발표 일자 지정\n",
    "baseTime = time\n",
    "\n",
    "nx_val = 55 # 예보지점 x 좌표(경기 김포시 사우동의 x 좌표)\n",
    "ny_val = 128 # 예보지점 y 좌표(경기 김포시 사우동의 y 좌표)\n",
    "\n",
    "num_of_rows = 30 # 한 페이지에 포함된 결과 수\n",
    "page_no = 1 # 페이지 번호\n",
    "\n",
    "output_type = \"json\" # 응답 데이터 형식 지정\n",
    "\n",
    "req_parameter = {\"ServiceKey\": API_KEY_decode,\n",
    "                 \"nx\": nx_val, \"ny\": ny_val,\n",
    "                 \"base_date\": baseDate, \"base_time\": baseTime,\n",
    "                 \"pageNo\": page_no, \"numOfRows\": num_of_rows,\n",
    "                 \"_type\": output_type}\n",
    "\n",
    "# [데이터 요청]\n",
    "r = requests.get(req_url, params = req_parameter)\n",
    "\n",
    "# [JSON 형태로 응답받은 데이터를 딕셔너리 데이터로 변환]\n",
    "dict_data = r.json()\n",
    "dict_data"
   ]
  },
  {
   "cell_type": "code",
   "execution_count": 102,
   "metadata": {},
   "outputs": [
    {
     "name": "stdout",
     "output_type": "stream",
     "text": [
      "[ 발표 날짜: 20190520 ]\n",
      "[ 발표 시간: 1800 ]\n",
      "* 습도: - 퍼센트\n",
      "* 습도: - 퍼센트\n",
      "* 습도: - 퍼센트\n",
      "* 습도: - 퍼센트\n",
      "* 습도: - 퍼센트\n",
      "* 습도: - 퍼센트\n",
      "* 습도: - 퍼센트\n",
      "* 습도: - 퍼센트\n",
      "* 습도: - 퍼센트\n",
      "* 습도: - 퍼센트\n",
      "* 습도: - 퍼센트\n",
      "* 습도: - 퍼센트\n",
      "* 습도: - 퍼센트\n",
      "* 습도: - 퍼센트\n",
      "* 습도: - 퍼센트\n",
      "* 습도: - 퍼센트\n",
      "* 습도: - 퍼센트\n",
      "* 습도: - 퍼센트\n"
     ]
    }
   ],
   "source": [
    "# [딕셔너리 데이터를 분석해서 원하는 값 추출]\n",
    "\n",
    "weather_items = dict_data['response']['body']['items']['item']\n",
    "\n",
    "sky_cond = [\"맑음\", \"구름 조금\", \"구름 많음\", \"흐림\"]\n",
    "rain_type = [\"없음\", \"비\", \"진눈깨비\", \"눈\", \"소나기\"]\n",
    "\n",
    "print(\"[ 발표 날짜: {} ]\".format(weather_items[0]['baseDate']))\n",
    "print(\"[ 발표 시간: {} ]\".format(weather_items[0]['baseTime']))\n",
    "\n",
    "for k in range(len(weather_items)):\n",
    "    weather_item = weather_items[k]\n",
    "    fcstValue = weather_item['fcstValue']\n",
    "    if (weather_item['category'] == 'T3H'):\n",
    "        print(\"* 3시간 뒤 기온: {} 도\".format(fcstValue))\n",
    "    elif (weather_item['category'] == 'T1H'):\n",
    "        print(\"* 기온: {} 도\".format(fcstValue))\n",
    "    elif (weather_item['category'] == 'REH'):\n",
    "        print(\"* 습도: {} 퍼센트\".format(fcstValue))\n",
    "    elif (weather_item['category'] == 'SKY'):\n",
    "        print(\"* 하늘: {}\".format(sky_cond[fcstValue - 1]))\n",
    "    elif (weather_item['category'] == 'PTY'):\n",
    "        print(\"* 강수: {}\".format(rain_type[fcstValue]))"
   ]
  },
  {
   "cell_type": "code",
   "execution_count": 107,
   "metadata": {},
   "outputs": [
    {
     "name": "stdout",
     "output_type": "stream",
     "text": [
      "[ 발표 날짜: 20190520 ]\n",
      "[ 발표 시간: 1830 ]\n",
      "[ 초단기 일기 예보 ]\n",
      "* 시간: 1900, 강수: 없음\n",
      "* 시간: 2000, 강수: 없음\n",
      "* 시간: 2100, 강수: 없음\n",
      "* 시간: 1900, 하늘: 맑음\n",
      "* 시간: 2000, 하늘: 맑음\n",
      "* 시간: 2100, 하늘: 맑음\n",
      "* 시간: 1900, 기온: 15 도\n",
      "* 시간: 2000, 기온: 14 도\n",
      "* 시간: 2100, 기온: 14 도\n",
      "* 시간: 1900, 습도: 60 퍼센트\n",
      "* 시간: 2000, 습도: 60 퍼센트\n",
      "* 시간: 2100, 습도: 65 퍼센트\n"
     ]
    }
   ],
   "source": [
    "# 초단기예보조회, 동네예보조회 오퍼레이션 작동 예제\n",
    "import json\n",
    "import datetime\n",
    "\n",
    "# [날짜 및 시간 설정]\n",
    "now = datetime.datetime.now() # 현재 날짜 및 시간 변환\n",
    "\n",
    "# baseDate에 날짜를 입력하기 위해 날짜에 출력 형식을 지정해 변수에 할당\n",
    "date = \"{:%Y%m%d}\".format(now)\n",
    "\n",
    "# baseTime에 시간(정시)을 입력하기 위해 출력 형식을 지정해 시간만 변수에 할당\n",
    "time = \"{:%H00}\".format(now)\n",
    "\n",
    "# 현재 분이 30분 이전이면 이전 시간(정시)을 설정\n",
    "if (now.minute >= 30):\n",
    "    time = \"{0}00\".format(now.hour)\n",
    "else:\n",
    "    time = \"{0}00\".format(now.hour - 1)\n",
    "\n",
    "# [요청 주소 및 요청 변수 지정]\n",
    "req_url = \"http://newsky2.kma.go.kr/service/SecndSrtpdFrcstInfoService2/ForecastTimeData\"\n",
    "\n",
    "baseDate = date # 발표 일자 지정\n",
    "baseTime = time # time -> 발표 시간 지정(정시로 지정)\n",
    "\n",
    "nx_val = 55 # 예보지점 X 좌표(경기도 김포시 사우동)\n",
    "ny_val = 128 # 예보지점 Y 좌표(경기도 김포시 사우동)\n",
    "\n",
    "num_of_rows = 30 # 한 페이지에 포함된 결과 수\n",
    "page_no = 1 # page 번호\n",
    "\n",
    "output_type = 'json' # 응답 데이터 형식 지정\n",
    "\n",
    "req_parameter = {\"ServiceKey\": API_KEY_decode,\n",
    "                 \"nx\": nx_val, \"ny\": ny_val,\n",
    "                 \"base_date\": baseDate, \"base_time\": baseTime,\n",
    "                 \"pageNo\": page_no, \"numOfRows\": num_of_rows,\n",
    "                 \"_type\": output_type}\n",
    "\n",
    "# [데이터 요청]\n",
    "r = requests.get(req_url, params = req_parameter)\n",
    "\n",
    "# [JSON 형태로 응답받은 데이터를 딕셔너리 데이터로 변환]\n",
    "dict_data = r.json()\n",
    "\n",
    "# [딕셔너리 데이터를 분석해서 원하는 값 추출]\n",
    "weather_items = dict_data['response']['body']['items']['item']\n",
    "\n",
    "sky_cond = [\"맑음\", \"구름 조금\", \"구름 많음\", \"흐림\"]\n",
    "rain_type = [\"없음\", \"비\", \"진눈깨비\", \"눈\", \"소나기\"]\n",
    "\n",
    "print(\"[ 발표 날짜: {} ]\".format(weather_items[0]['baseDate']))\n",
    "print(\"[ 발표 시간: {} ]\".format(weather_items[0]['baseTime']))\n",
    "\n",
    "print(\"[ 초단기 일기 예보 ]\")\n",
    "\n",
    "for k in range(len(weather_items)):\n",
    "    weather_item = weather_items[k]\n",
    "    \n",
    "    fcstTime = weather_item['fcstTime']\n",
    "    fcstValue = weather_item['fcstValue']\n",
    "    \n",
    "    if (weather_item['category'] == 'T3H'):\n",
    "        print(\"* 시간: {0}, 3시간 뒤 기온: {1} 도\".format(fcstTime, fcstValue))\n",
    "    elif (weather_item['category'] == 'T1H'):\n",
    "        print(\"* 시간: {0}, 기온: {1} 도\".format(fcstTime, fcstValue))\n",
    "    elif (weather_item['category'] == 'REH'):\n",
    "        print(\"* 시간: {0}, 습도: {1} 퍼센트\".format(fcstTime, fcstValue))\n",
    "    elif (weather_item['category'] == 'SKY'):\n",
    "        print(\"* 시간: {0}, 하늘: {1}\".format(fcstTime, sky_cond[fcstValue - 1]))\n",
    "    elif (weather_item['category'] == 'PTY'):\n",
    "        print(\"* 시간: {0}, 강수: {1}\".format(fcstTime, rain_type[fcstValue]))"
   ]
  },
  {
   "cell_type": "markdown",
   "metadata": {},
   "source": [
    "#### 대기 오염 정보 가져오기"
   ]
  },
  {
   "cell_type": "code",
   "execution_count": 108,
   "metadata": {},
   "outputs": [
    {
     "data": {
      "text/plain": [
       "'iH83FPn541jSnsh9ltgyYxIAOBpM0rJbAWxZ7yprBW5dKNElaUKLQwiGzZdh1zJgoXk/G/RGSEOywu5GmPlV9g=='"
      ]
     },
     "execution_count": 108,
     "metadata": {},
     "output_type": "execute_result"
    }
   ],
   "source": [
    "# 근접측정소 목록 조회 오퍼레이션 사용해보기 실습\n",
    "# API_KEY 디코딩\n",
    "import requests\n",
    "\n",
    "# API_KEY = 'YOUR-API-KEY'\n",
    "API_KEY_decode = requests.utils.unquote(API_KEY)\n",
    "API_KEY_decode"
   ]
  },
  {
   "cell_type": "code",
   "execution_count": 110,
   "metadata": {},
   "outputs": [
    {
     "data": {
      "text/plain": [
       "1"
      ]
     },
     "execution_count": 110,
     "metadata": {},
     "output_type": "execute_result"
    }
   ],
   "source": [
    "# 읍면동 이름으로 TM 기준 좌표 데이터를 가져오는 코드 작성\n",
    "req_url = \"http://openapi.airkorea.or.kr/openapi/services/rest/MsrstnInfoInqireSvc/getTMStdrCrdnt\"\n",
    "\n",
    "umd_name = \"사우동\" # 읍, 면, 동 지정\n",
    "num_of_rows = 10 # 한 페이지에 포함된 결과 수\n",
    "page_no = 1 # 페이지 번호\n",
    "\n",
    "output_type = \"json\"\n",
    "\n",
    "req_parameter = {\"ServiceKey\": API_KEY_decode, \"umdName\": umd_name,\n",
    "                 \"pageNO\": page_no, \"numOfRows\": num_of_rows,\n",
    "                 \"_returnType\": output_type}\n",
    "\n",
    "dict_data = requests.get(req_url, params = req_parameter).json()\n",
    "dict_data['totalCount']"
   ]
  },
  {
   "cell_type": "code",
   "execution_count": 113,
   "metadata": {},
   "outputs": [
    {
     "name": "stdout",
     "output_type": "stream",
     "text": [
      "[입력한 읍/면/동명] 사우동\n",
      "[TM 기준 좌표 조회 결과]\n",
      "\n",
      "- 위치: 경기도 김포시 사우동\n",
      "- k = 0, TM 좌표(X, Y): 175749.543357, 457451.232697\n",
      "\n"
     ]
    }
   ],
   "source": [
    "print(\"[입력한 읍/면/동명]\", umd_name)\n",
    "print(\"[TM 기준 좌표 조회 결과]\\n\")\n",
    "\n",
    "for k in range(dict_data['totalCount']):\n",
    "    sido = dict_data['list'][k]['sidoName']\n",
    "    sgg = dict_data['list'][k]['sggName']\n",
    "    umd = dict_data['list'][k]['umdName']\n",
    "    \n",
    "    tmX = dict_data['list'][k]['tmX']\n",
    "    tmY = dict_data['list'][k]['tmY']\n",
    "\n",
    "    print(\"- 위치: {0} {1} {2}\".format(sido, sgg, umd))\n",
    "    print(\"- k = {0}, TM 좌표(X, Y): {1}, {2}\\n\".format(k, tmX, tmY))"
   ]
  },
  {
   "cell_type": "code",
   "execution_count": 116,
   "metadata": {},
   "outputs": [
    {
     "name": "stdout",
     "output_type": "stream",
     "text": [
      "TM 좌표(X, Y): 175749.543357, 457451.232697\n"
     ]
    }
   ],
   "source": [
    "k = 0 # 원하는 위치 선택 (김포시 사우동의 index 위치)\n",
    "TM_X = dict_data['list'][k]['tmX']\n",
    "TM_Y = dict_data['list'][k]['tmY']\n",
    "print(\"TM 좌표(X, Y): {0}, {1}\".format(TM_X, TM_Y))"
   ]
  },
  {
   "cell_type": "code",
   "execution_count": 118,
   "metadata": {},
   "outputs": [
    {
     "name": "stdout",
     "output_type": "stream",
     "text": [
      "해당 지역 근처에 있는 측정소의 개수: 3\n"
     ]
    }
   ],
   "source": [
    "# 구해서 저장한 TM 좌표 값으로 근접측정서 목록을 조회합니다\n",
    "req_url = \"http://openapi.airkorea.or.kr/openapi/services/rest/MsrstnInfoInqireSvc/getNearbyMsrstnList\"\n",
    "\n",
    "x_value = TM_X # TM 측정방식 X 좌표\n",
    "y_value = TM_Y # TM 측정방식 Y 좌표\n",
    "\n",
    "num_of_rows = 10 # 한 페이지에 포함된 결과 수\n",
    "page_no = 1 # 페이지 번호\n",
    "\n",
    "output_type = \"json\"\n",
    "req_parameter = {\"ServiceKey\": API_KEY_decode,\n",
    "                 \"tmX\": x_value, \"tmY\": y_value,\n",
    "                 \"pageNo\": page_no, \"numOfRows\": num_of_rows,\n",
    "                 \"_returnType\": output_type}\n",
    "\n",
    "dict_data = requests.get(req_url, params = req_parameter).json()\n",
    "\n",
    "print(\"해당 지역 근처에 있는 측정소의 개수:\", dict_data['totalCount'])"
   ]
  },
  {
   "cell_type": "code",
   "execution_count": 119,
   "metadata": {},
   "outputs": [
    {
     "name": "stdout",
     "output_type": "stream",
     "text": [
      "[측정소 정보]\n",
      "- 측정소 이름:사우동, 거리:0.8[km]\n",
      "- 측정소 주소:경기 김포시 돌문로 51사우동주민센터 \n",
      "\n",
      "- 측정소 이름:고촌읍, 거리:3.5[km]\n",
      "- 측정소 주소:경기 김포시 고촌읍 신곡로 152김포상하수도사업소 \n",
      "\n",
      "- 측정소 이름:원당, 거리:3.7[km]\n",
      "- 측정소 주소:인천 서구 고산후로121번길 7(원당동)검단선사박물관 옥상 \n",
      "\n"
     ]
    }
   ],
   "source": [
    "# 실제 측정소 정보들을 가져옵니다\n",
    "print(\"[측정소 정보]\")\n",
    "\n",
    "for k in range(dict_data['totalCount']):\n",
    "    stationName = dict_data['list'][k]['stationName']\n",
    "    distance = dict_data['list'][k]['tm']\n",
    "    addr = dict_data['list'][k]['addr']\n",
    "    \n",
    "    print(\"- 측정소 이름:{0}, 거리:{1}[km]\".format(stationName, distance))\n",
    "    print(\"- 측정소 주소:{0} \\n\".format(addr))"
   ]
  },
  {
   "cell_type": "code",
   "execution_count": 120,
   "metadata": {},
   "outputs": [
    {
     "data": {
      "text/plain": [
       "{'_returnType': 'json',\n",
       " 'coGrade': '1',\n",
       " 'coValue': '0.3',\n",
       " 'dataTerm': '',\n",
       " 'dataTime': '2019-05-20 21:00',\n",
       " 'khaiGrade': '2',\n",
       " 'khaiValue': '73',\n",
       " 'mangName': '도시대기',\n",
       " 'no2Grade': '1',\n",
       " 'no2Value': '0.006',\n",
       " 'numOfRows': '10',\n",
       " 'o3Grade': '2',\n",
       " 'o3Value': '0.057',\n",
       " 'pageNo': '1',\n",
       " 'pm10Grade': '2',\n",
       " 'pm10Grade1h': '2',\n",
       " 'pm10Value': '38',\n",
       " 'pm10Value24': '33',\n",
       " 'pm25Grade': '1',\n",
       " 'pm25Grade1h': '1',\n",
       " 'pm25Value': '8',\n",
       " 'pm25Value24': '7',\n",
       " 'resultCode': '',\n",
       " 'resultMsg': '',\n",
       " 'rnum': 0,\n",
       " 'serviceKey': '',\n",
       " 'sidoName': '',\n",
       " 'so2Grade': '1',\n",
       " 'so2Value': '0.002',\n",
       " 'stationCode': '',\n",
       " 'stationName': '',\n",
       " 'totalCount': '',\n",
       " 'ver': ''}"
      ]
     },
     "execution_count": 120,
     "metadata": {},
     "output_type": "execute_result"
    }
   ],
   "source": [
    "# 근접측정소 중 가장 가까운 측정소에서 측정한 대기오염 정보를 가져옵니다\n",
    "req_url = \"http://openapi.airkorea.or.kr/openapi/services/rest/ArpltnInforInqireSvc/getMsrstnAcctoRltmMesureDnsty\"\n",
    "\n",
    "station_name = \"사우동\"\n",
    "data_term = \"DAILY\" # 일일 단위로...\n",
    "num_of_rows = 10\n",
    "page_no = 1\n",
    "version = 1.3\n",
    "output_type = \"json\"\n",
    "\n",
    "req_parameter = {\"ServiceKey\": API_KEY_decode,\n",
    "                 \"stationName\": station_name,\n",
    "                 \"dataTerm\": data_term, \"ver\": version,\n",
    "                 \"pageNo\": page_no, \"numOfRows\": num_of_rows,\n",
    "                 \"_returnType\": output_type}\n",
    "\n",
    "dict_data = requests.get(req_url, params = req_parameter).json()\n",
    "dict_data['list'][0]"
   ]
  },
  {
   "cell_type": "code",
   "execution_count": 121,
   "metadata": {},
   "outputs": [
    {
     "name": "stdout",
     "output_type": "stream",
     "text": [
      "[측정소(사우동)에서 측정된 대기 오염 상태]\n",
      "- 측정 시간:2019-05-20 21:00\n",
      "- [지수] 아황산가스:1, 일산화탄소:1, 오존:2, 이산화질소:1\n",
      "- [등급] 미세먼지:2, 초미세먼지:1, 통합대기환경:2\n"
     ]
    }
   ],
   "source": [
    "# 해당 지역의 대기 오염 정보 중 아황산가스, 일산화탄소, 오존, 이산화질소의 지수, 미세먼지\n",
    "# 와 통합 대기 환경의 등급 확인\n",
    "dataTime = dict_data['list'][0]['dataTime']\n",
    "\n",
    "so2Grade = dict_data['list'][0]['so2Grade']\n",
    "coGrade = dict_data['list'][0]['coGrade']\n",
    "o3Grade = dict_data['list'][0]['o3Grade']\n",
    "no2Grade = dict_data['list'][0]['no2Grade']\n",
    "\n",
    "pm10Grade1h = dict_data['list'][0]['pm10Grade1h'] # 마세먼지 PM_10 1시간 등급\n",
    "pm25Grade1h = dict_data['list'][0]['pm25Grade1h'] # 마세먼지 PM_25 1시간 등급\n",
    "khaiGrade = dict_data['list'][0]['khaiGrade'] # 통합대기환경 수치\n",
    "\n",
    "print(\"[측정소({0})에서 측정된 대기 오염 상태]\".format(station_name))\n",
    "print(\"- 측정 시간:{0}\".format(dataTime))\n",
    "\n",
    "print(\"- [지수] \", end = '')\n",
    "print(\"아황산가스:{0}, 일산화탄소:{1}, 오존:{2}, 이산화질소:{3}\".\n",
    "     format(so2Grade, coGrade, o3Grade, no2Grade))\n",
    "\n",
    "print(\"- [등급] \", end = '')\n",
    "print(\"미세먼지:{0}, 초미세먼지:{1}, 통합대기환경:{2}\".\n",
    "     format(pm10Grade1h, pm25Grade1h, khaiGrade))"
   ]
  },
  {
   "cell_type": "code",
   "execution_count": 122,
   "metadata": {},
   "outputs": [
    {
     "name": "stdout",
     "output_type": "stream",
     "text": [
      "[측정소(사우동)에서 측정된 대기 오염 상태]\n",
      "- 측정 시간:2019-05-20 21:00\n",
      "아황산가스:좋음, 일산화탄소:좋음, 오존:보통, 이산화질소:좋음\n",
      "미세먼지:보통, 초미세먼지:좋음, 통합대기환경:보통\n"
     ]
    }
   ],
   "source": [
    "gradeNum2Str = {\"1\":\"좋음\", \"2\":\"보통\", \"3\":\"나쁨\", \"4\":\"매우나쁨\"}\n",
    "\n",
    "print(\"[측정소({0})에서 측정된 대기 오염 상태]\".format(station_name))\n",
    "print(\"- 측정 시간:{0}\".format(dataTime))\n",
    "\n",
    "print(\"아황산가스:{0}, 일산화탄소:{1}, 오존:{2}, 이산화질소:{3}\".\n",
    "     format(gradeNum2Str[so2Grade], gradeNum2Str[coGrade],\n",
    "            gradeNum2Str[o3Grade], gradeNum2Str[no2Grade]))\n",
    "\n",
    "print(\"미세먼지:{0}, 초미세먼지:{1}, 통합대기환경:{2}\".\n",
    "     format(gradeNum2Str[pm10Grade1h], gradeNum2Str[pm25Grade1h],\n",
    "            gradeNum2Str[khaiGrade]))"
   ]
  },
  {
   "cell_type": "code",
   "execution_count": null,
   "metadata": {},
   "outputs": [],
   "source": []
  },
  {
   "cell_type": "code",
   "execution_count": null,
   "metadata": {},
   "outputs": [],
   "source": []
  },
  {
   "cell_type": "code",
   "execution_count": null,
   "metadata": {},
   "outputs": [],
   "source": []
  },
  {
   "cell_type": "code",
   "execution_count": null,
   "metadata": {},
   "outputs": [],
   "source": []
  },
  {
   "cell_type": "code",
   "execution_count": null,
   "metadata": {},
   "outputs": [],
   "source": []
  }
 ],
 "metadata": {
  "kernelspec": {
   "display_name": "Python 3",
   "language": "python",
   "name": "python3"
  },
  "language_info": {
   "codemirror_mode": {
    "name": "ipython",
    "version": 3
   },
   "file_extension": ".py",
   "mimetype": "text/x-python",
   "name": "python",
   "nbconvert_exporter": "python",
   "pygments_lexer": "ipython3",
   "version": "3.7.3"
  }
 },
 "nbformat": 4,
 "nbformat_minor": 2
}
