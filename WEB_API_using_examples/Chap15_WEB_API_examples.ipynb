{
 "cells": [
  {
   "cell_type": "markdown",
   "metadata": {},
   "source": [
    "### JSON 데이터 예제"
   ]
  },
  {
   "cell_type": "code",
   "execution_count": 1,
   "metadata": {},
   "outputs": [
    {
     "data": {
      "text/plain": [
       "dict"
      ]
     },
     "execution_count": 1,
     "metadata": {},
     "output_type": "execute_result"
    }
   ],
   "source": [
    "import json\n",
    "\n",
    "python_dict = {\n",
    "    \"이름\": \"홍길동\",\n",
    "    \"나이\": 25,\n",
    "    \"거주지\": \"서울\",\n",
    "    \"신체정보\": {\n",
    "        \"키\": 175.4,\n",
    "        \"몸무게\": 71.2\n",
    "    },\n",
    "    \"취미\": [\n",
    "        \"등산\",\n",
    "        \"자전거타기\",\n",
    "        \"독서\"\n",
    "    ]\n",
    "}\n",
    "\n",
    "type(python_dict)"
   ]
  },
  {
   "cell_type": "code",
   "execution_count": 2,
   "metadata": {},
   "outputs": [
    {
     "data": {
      "text/plain": [
       "str"
      ]
     },
     "execution_count": 2,
     "metadata": {},
     "output_type": "execute_result"
    }
   ],
   "source": [
    "# json 형태의 데이터로 변환\n",
    "json_data = json.dumps(python_dict)\n",
    "type(json_data)"
   ]
  },
  {
   "cell_type": "code",
   "execution_count": 3,
   "metadata": {},
   "outputs": [
    {
     "name": "stdout",
     "output_type": "stream",
     "text": [
      "{\"\\uc774\\ub984\": \"\\ud64d\\uae38\\ub3d9\", \"\\ub098\\uc774\": 25, \"\\uac70\\uc8fc\\uc9c0\": \"\\uc11c\\uc6b8\", \"\\uc2e0\\uccb4\\uc815\\ubcf4\": {\"\\ud0a4\": 175.4, \"\\ubab8\\ubb34\\uac8c\": 71.2}, \"\\ucde8\\ubbf8\": [\"\\ub4f1\\uc0b0\", \"\\uc790\\uc804\\uac70\\ud0c0\\uae30\", \"\\ub3c5\\uc11c\"]}\n"
     ]
    }
   ],
   "source": [
    "# json 데이터 출력 확인\n",
    "# 한글도 출력이 안되고 들여쓰기도 안되는 것을 확인할 수 있음\n",
    "print(json_data)"
   ]
  },
  {
   "cell_type": "code",
   "execution_count": 4,
   "metadata": {},
   "outputs": [
    {
     "name": "stdout",
     "output_type": "stream",
     "text": [
      "{\n",
      "   \"거주지\": \"서울\",\n",
      "   \"나이\": 25,\n",
      "   \"신체정보\": {\n",
      "      \"몸무게\": 71.2,\n",
      "      \"키\": 175.4\n",
      "   },\n",
      "   \"이름\": \"홍길동\",\n",
      "   \"취미\": [\n",
      "      \"등산\",\n",
      "      \"자전거타기\",\n",
      "      \"독서\"\n",
      "   ]\n",
      "}\n"
     ]
    }
   ],
   "source": [
    "# json.dumps()에 옵션 추가 후 다시 출력\n",
    "json_data = json.dumps(python_dict, indent = 3, sort_keys = True, ensure_ascii = False)\n",
    "print(json_data)"
   ]
  },
  {
   "cell_type": "code",
   "execution_count": 5,
   "metadata": {},
   "outputs": [
    {
     "data": {
      "text/plain": [
       "dict"
      ]
     },
     "execution_count": 5,
     "metadata": {},
     "output_type": "execute_result"
    }
   ],
   "source": [
    "# json 형식의 데이터를 파이썬의 dictionary형태로 변경하기\n",
    "json_dict = json.loads(json_data)\n",
    "type(json_dict)"
   ]
  },
  {
   "cell_type": "code",
   "execution_count": 6,
   "metadata": {},
   "outputs": [
    {
     "data": {
      "text/plain": [
       "71.2"
      ]
     },
     "execution_count": 6,
     "metadata": {},
     "output_type": "execute_result"
    }
   ],
   "source": [
    "# 실제 dictionary처럼 출력이 이뤄 지는지 확인해봅니다.\n",
    "json_dict['신체정보']['몸무게']"
   ]
  },
  {
   "cell_type": "code",
   "execution_count": 7,
   "metadata": {},
   "outputs": [
    {
     "data": {
      "text/plain": [
       "['등산', '자전거타기', '독서']"
      ]
     },
     "execution_count": 7,
     "metadata": {},
     "output_type": "execute_result"
    }
   ],
   "source": [
    "json_dict['취미']"
   ]
  },
  {
   "cell_type": "code",
   "execution_count": 8,
   "metadata": {},
   "outputs": [
    {
     "data": {
      "text/plain": [
       "'등산'"
      ]
     },
     "execution_count": 8,
     "metadata": {},
     "output_type": "execute_result"
    }
   ],
   "source": [
    "json_dict['취미'][0]"
   ]
  },
  {
   "cell_type": "markdown",
   "metadata": {},
   "source": [
    "### XML to Python dictionary 예제"
   ]
  },
  {
   "cell_type": "code",
   "execution_count": 11,
   "metadata": {},
   "outputs": [
    {
     "name": "stdout",
     "output_type": "stream",
     "text": [
      "<?xml version=\"1.0\" encoding=\"UTF-8\" ?>\n",
      "<사용자정보>\n",
      "    <이름>홍길동</이름>\n",
      "    <나이>25</나이>\n",
      "    <거주지>서울</거주지>\n",
      "<신체정보>\n",
      "    <키 unit=\"cm\">175.4</키>\n",
      "    <몸무게 unit=\"kg\">71.2</몸무게>\n",
      "</신체정보>\n",
      "<취미>등산</취미>\n",
      "<취미>자전거타기</취미>\n",
      "<취미>독서</취미>\n",
      "</사용자정보>\n",
      "\n"
     ]
    }
   ],
   "source": [
    "xml_data = \"\"\"<?xml version=\"1.0\" encoding=\"UTF-8\" ?>\n",
    "<사용자정보>\n",
    "    <이름>홍길동</이름>\n",
    "    <나이>25</나이>\n",
    "    <거주지>서울</거주지>\n",
    "<신체정보>\n",
    "    <키 unit=\"cm\">175.4</키>\n",
    "    <몸무게 unit=\"kg\">71.2</몸무게>\n",
    "</신체정보>\n",
    "<취미>등산</취미>\n",
    "<취미>자전거타기</취미>\n",
    "<취미>독서</취미>\n",
    "</사용자정보>\n",
    "\"\"\"\n",
    "\n",
    "print(xml_data)"
   ]
  },
  {
   "cell_type": "code",
   "execution_count": 12,
   "metadata": {},
   "outputs": [
    {
     "data": {
      "text/plain": [
       "OrderedDict([('사용자정보',\n",
       "              OrderedDict([('이름', '홍길동'),\n",
       "                           ('나이', '25'),\n",
       "                           ('거주지', '서울'),\n",
       "                           ('신체정보',\n",
       "                            OrderedDict([('키',\n",
       "                                          OrderedDict([('@unit', 'cm'),\n",
       "                                                       ('#text', '175.4')])),\n",
       "                                         ('몸무게',\n",
       "                                          OrderedDict([('@unit', 'kg'),\n",
       "                                                       ('#text', '71.2')]))])),\n",
       "                           ('취미', ['등산', '자전거타기', '독서'])]))])"
      ]
     },
     "execution_count": 12,
     "metadata": {},
     "output_type": "execute_result"
    }
   ],
   "source": [
    "# xml 데이터 형식을 dictionary 타입으로 변경하는 예제\n",
    "import xmltodict\n",
    "\n",
    "dict_data = xmltodict.parse(xml_data, xml_attribs = True)\n",
    "dict_data"
   ]
  },
  {
   "cell_type": "code",
   "execution_count": 13,
   "metadata": {},
   "outputs": [
    {
     "data": {
      "text/plain": [
       "'홍길동'"
      ]
     },
     "execution_count": 13,
     "metadata": {},
     "output_type": "execute_result"
    }
   ],
   "source": [
    "dict_data['사용자정보']['이름']"
   ]
  },
  {
   "cell_type": "code",
   "execution_count": 14,
   "metadata": {},
   "outputs": [
    {
     "data": {
      "text/plain": [
       "OrderedDict([('키', OrderedDict([('@unit', 'cm'), ('#text', '175.4')])),\n",
       "             ('몸무게', OrderedDict([('@unit', 'kg'), ('#text', '71.2')]))])"
      ]
     },
     "execution_count": 14,
     "metadata": {},
     "output_type": "execute_result"
    }
   ],
   "source": [
    "# 사용자정보 중 신체정보 출력\n",
    "dict_data['사용자정보']['신체정보']"
   ]
  },
  {
   "cell_type": "code",
   "execution_count": 17,
   "metadata": {},
   "outputs": [
    {
     "name": "stdout",
     "output_type": "stream",
     "text": [
      "키의 단위:  cm 키의 텍스트 값:  175.4\n"
     ]
    }
   ],
   "source": [
    "print(\"키의 단위: \", dict_data['사용자정보']['신체정보']['키']['@unit'], \"키의 텍스트 값: \", \\\n",
    "      dict_data['사용자정보']['신체정보']['키']['#text'])"
   ]
  },
  {
   "cell_type": "code",
   "execution_count": 19,
   "metadata": {},
   "outputs": [
    {
     "name": "stdout",
     "output_type": "stream",
     "text": [
      "[사용자 홍길동의 신체정보]\n",
      "*키: 175.4cm\n",
      "*몸무게: 71.2kg\n"
     ]
    }
   ],
   "source": [
    "# XML 데이터에서 원하는 데이터를 추출 및 활용하는 예제(종합)\n",
    "import xmltodict\n",
    "\n",
    "dict_data = xmltodict.parse(xml_data)\n",
    "\n",
    "user_name = dict_data['사용자정보']['이름']\n",
    "body_data = dict_data['사용자정보']['신체정보']\n",
    "\n",
    "height = body_data['키']['#text']\n",
    "height_unit = body_data['키']['@unit']\n",
    "\n",
    "weight = body_data['몸무게']['#text']\n",
    "weight_unit = body_data['몸무게']['@unit']\n",
    "\n",
    "print(\"[사용자 {0}의 신체정보]\".format(user_name))\n",
    "print(\"*키: {0}{1}\".format(height, height_unit))\n",
    "print(\"*몸무게: {0}{1}\".format(weight, weight_unit))"
   ]
  },
  {
   "cell_type": "code",
   "execution_count": 22,
   "metadata": {},
   "outputs": [
    {
     "data": {
      "text/plain": [
       "OrderedDict([('사용자정보',\n",
       "              OrderedDict([('이름', '홍길동'),\n",
       "                           ('나이', '25'),\n",
       "                           ('거주지', '서울'),\n",
       "                           ('신체정보',\n",
       "                            OrderedDict([('키', '175.4'), ('몸무게', '71.2')])),\n",
       "                           ('취미', ['등산', '자전거타기', '독서'])]))])"
      ]
     },
     "execution_count": 22,
     "metadata": {},
     "output_type": "execute_result"
    }
   ],
   "source": [
    "# XML에서 지정한 속성 무시하고 python dictionary로 파싱하기\n",
    "dict_data2 = xmltodict.parse(xml_data, xml_attribs = False)\n",
    "dict_data2"
   ]
  },
  {
   "cell_type": "markdown",
   "metadata": {},
   "source": [
    "### 웹 사이트 주소에 부가 정보 추가하기 예제"
   ]
  },
  {
   "cell_type": "code",
   "execution_count": 23,
   "metadata": {},
   "outputs": [
    {
     "name": "stdout",
     "output_type": "stream",
     "text": [
      "https://api.github.com/events\n"
     ]
    }
   ],
   "source": [
    "base_url = \"https://api.github.com/\"\n",
    "sub_dir = \"events\"\n",
    "url = base_url + sub_dir\n",
    "print(url)"
   ]
  },
  {
   "cell_type": "markdown",
   "metadata": {},
   "source": [
    "#### 웹 사이트 주소에 경로 추가"
   ]
  },
  {
   "cell_type": "code",
   "execution_count": 24,
   "metadata": {},
   "outputs": [
    {
     "name": "stdout",
     "output_type": "stream",
     "text": [
      "https://api.github.com/events\n",
      "https://api.github.com/user\n",
      "https://api.github.com/emails\n"
     ]
    }
   ],
   "source": [
    "# 기본 웹 사이트 주소에 하위 경로만 변경하여 URL 생성 후 requests.get()을 이용해 데이터를 요청하고 응답받는 예제\n",
    "import requests\n",
    "\n",
    "base_url = \"https://api.github.com/\"\n",
    "sub_dirs = [\"events\", \"user\", \"emails\"]\n",
    "\n",
    "for sub_dir in sub_dirs:\n",
    "    url_dir = base_url + sub_dir\n",
    "    r = requests.get(url_dir)\n",
    "    print(r.url)"
   ]
  },
  {
   "cell_type": "markdown",
   "metadata": {},
   "source": [
    "#### 웹 사이트 주소에 매개변수 추가"
   ]
  },
  {
   "cell_type": "code",
   "execution_count": 25,
   "metadata": {},
   "outputs": [
    {
     "name": "stdout",
     "output_type": "stream",
     "text": [
      "http://api.openweathermap.org/data/2.5/weather?lat=37.57&lon=126.98&appid=b235c57pc357fb68acr1e81&units=metric\n"
     ]
    }
   ],
   "source": [
    "# '?'를 이용하면 해당 웹 사이트에 매개변수를 보낼 수 있다.\n",
    "# 전달하려는 매개변수가 2개 이상이면 : '&'로 연결지어 보내주면 된다.\n",
    "import requests\n",
    "\n",
    "LAT = '37.57' # 위도\n",
    "LON = '126.98' # 경도\n",
    "API_KEY = 'b235c57pc357fb68acr1e81' # API 키(임의의 API 키)\n",
    "UNIT = 'metric' # 단위\n",
    "\n",
    "site_url = \"http://api.openweathermap.org/data/2.5/weather\"\n",
    "parameter = \"?lat=%s&lon=%s&appid=%s&units=%s\"%(LAT, LON, API_KEY, UNIT)\n",
    "url_para = site_url + parameter\n",
    "r = requests.get(url_para)\n",
    "\n",
    "print(r.url)"
   ]
  },
  {
   "cell_type": "code",
   "execution_count": 28,
   "metadata": {},
   "outputs": [
    {
     "name": "stdout",
     "output_type": "stream",
     "text": [
      "http://api.openweathermap.org/data/2.5/weather?lat=37.57&lon=126.98&appid=b235c57pc357fb68acr1e81&units=metric\n"
     ]
    }
   ],
   "source": [
    "# 직접 생성한 URL을 요청 주소(url)과 요청 매개변수(params)로 분리 후 'requests.get(url, params = req_parameter)'\n",
    "# 를 이용해 URL 생성하는 예제\n",
    "import requests\n",
    "\n",
    "LAT = '37.57' # 위도\n",
    "LON = '126.98' # 경도\n",
    "API_KEY = 'b235c57pc357fb68acr1e81' # API 키(임의의 API 키)\n",
    "UNIT = 'metric' # 단위\n",
    "\n",
    "req_url = \"http://api.openweathermap.org/data/2.5/weather\"\n",
    "req_parameter = {\"lat\": LAT, \"lon\": LON, \"appid\": API_KEY, \"units\": UNIT}\n",
    "r = requests.get(req_url, params = req_parameter)\n",
    "print(r.url)"
   ]
  },
  {
   "cell_type": "markdown",
   "metadata": {},
   "source": [
    "#### 웹사이트 주소의 인코딩과 디코딩"
   ]
  },
  {
   "cell_type": "code",
   "execution_count": 29,
   "metadata": {},
   "outputs": [
    {
     "name": "stdout",
     "output_type": "stream",
     "text": [
      "Encoded url:  et5piq3pfpqLEWPpCbvtSQ%2Bertertg%2Bx3evdvbaRBvhWEerg3efac2r3f3RfhDTERTw%2B9rkvoewRV%2Fovmrk3dq%3D%3D\n",
      "Decoded url:  et5piq3pfpqLEWPpCbvtSQ+ertertg+x3evdvbaRBvhWEerg3efac2r3f3RfhDTERTw+9rkvoewRV/ovmrk3dq==\n"
     ]
    }
   ],
   "source": [
    "# 인코딩된 API 키 문자열을 원래의 API 키 문자열, 다시 말해 디코딩된 API 키 문자열로 변환하는 방법 예제\n",
    "import requests\n",
    "\n",
    "API_KEY = \"et5piq3pfpqLEWPpCbvtSQ%2Bertertg%2Bx3evdvbaRBvhWEerg3efac2r3f3RfhDTERTw%2B9rkvoewRV%2Fovmrk3dq%3D%3D\"\n",
    "\n",
    "API_KEY_decode = requests.utils.unquote(API_KEY)\n",
    "\n",
    "print(\"Encoded url: \", API_KEY)\n",
    "print(\"Decoded url: \", API_KEY_decode)"
   ]
  },
  {
   "cell_type": "code",
   "execution_count": 31,
   "metadata": {
    "scrolled": false
   },
   "outputs": [
    {
     "name": "stdout",
     "output_type": "stream",
     "text": [
      "http://openapi.airkorea.or.kr/openapi/services/rest/MsrstcInfoInquireSvc/getNearbyMsrstnList?ServiceKey=et5piq3pfpqLEWPpCbvtSQ%2Bertertg%2Bx3evdvbaRBvhWEerg3efac2r3f3RfhDTERTw%2B9rkvoewRV%2Fovmrk3dq%3D%3D&tmX=244148.546388&tmY=412423.75772\n"
     ]
    }
   ],
   "source": [
    "# 디코딩된 API 키를 이용해 데이터를 요청하는 예제\n",
    "# 그런데 연결 거부가 떠서 확인이 안되유 ㅠㅠ\n",
    "req_url = \"http://openapi.airkorea.or.kr/openapi/services/rest/MsrstcInfoInquireSvc/getNearbyMsrstnList\"\n",
    "\n",
    "tm_x = 244148.546388\n",
    "tm_y = 412423.75772\n",
    "\n",
    "req_parameter = {\"ServiceKey\": API_KEY_decode, \"tmX\": tm_x, \"tmY\": tm_y}\n",
    "\n",
    "r = requests.get(req_url, params = req_parameter)\n",
    "print(r.url)"
   ]
  },
  {
   "cell_type": "markdown",
   "metadata": {},
   "source": [
    "### API 키 없이 데이터 가져오기"
   ]
  },
  {
   "cell_type": "code",
   "execution_count": 45,
   "metadata": {},
   "outputs": [
    {
     "name": "stdout",
     "output_type": "stream",
     "text": [
      "{\"iss_position\": {\"latitude\": \"-50.6607\", \"longitude\": \"-97.1029\"}, \"timestamp\": 1558115876, \"message\": \"success\"}\n",
      "========================================================================================================================\n",
      "{\n",
      "  \"message\": \"success\", \n",
      "  \"request\": {\n",
      "    \"altitude\": 100, \n",
      "    \"datetime\": 1558115398, \n",
      "    \"latitude\": 37.4, \n",
      "    \"longitude\": 126.37, \n",
      "    \"passes\": 5\n",
      "  }, \n",
      "  \"response\": [\n",
      "    {\n",
      "      \"duration\": 632, \n",
      "      \"risetime\": 1558118997\n",
      "    }, \n",
      "    {\n",
      "      \"duration\": 591, \n",
      "      \"risetime\": 1558124802\n",
      "    }, \n",
      "    {\n",
      "      \"duration\": 620, \n",
      "      \"risetime\": 1558178965\n",
      "    }, \n",
      "    {\n",
      "      \"duration\": 614, \n",
      "      \"risetime\": 1558184763\n",
      "    }, \n",
      "    {\n",
      "      \"duration\": 494, \n",
      "      \"risetime\": 1558190673\n",
      "    }\n",
      "  ]\n",
      "}\n",
      "\n",
      "========================================================================================================================\n",
      "{\"message\": \"success\", \"number\": 6, \"people\": [{\"craft\": \"ISS\", \"name\": \"Oleg Kononenko\"}, {\"craft\": \"ISS\", \"name\": \"David Saint-Jacques\"}, {\"craft\": \"ISS\", \"name\": \"Anne McClain\"}, {\"craft\": \"ISS\", \"name\": \"Alexey Ovchinin\"}, {\"craft\": \"ISS\", \"name\": \"Nick Hague\"}, {\"craft\": \"ISS\", \"name\": \"Christina Koch\"}]}\n"
     ]
    }
   ],
   "source": [
    "# 국제 우주정거장(ISS)의 정보 가져오기\n",
    "# API DOCS 참조 : http://open-notify.org\n",
    "import requests\n",
    "import json\n",
    "\n",
    "# 이건 현재 ISS가 어디 있는지 보여주는 json입니다\n",
    "url = \"http://api.open-notify.org/iss-now.json\"\n",
    "r = requests.get(url)\n",
    "\n",
    "# 이건 현재 ISS가 특정 위,경도에 언제 올건지 보여줄 json입니다.\n",
    "# 본가가 김포시 사우동이라 해당 위,경도 기준으로 합니다\n",
    "LAT = '37.40' # 위도 \n",
    "LON = '126.37' # 경도\n",
    "url2 = \"http://api.open-notify.org/iss-pass.json\"\n",
    "req_param = {\"lat\": LAT, \"lon\": LON}\n",
    "r2 = requests.get(url2, params = req_param)\n",
    "\n",
    "# 이 API는 얼마나 많은 사람들이 지금 우주(space)에 있는지를 보여주는 API\n",
    "url3 = \"http://api.open-notify.org/astros.json\"\n",
    "r3 = requests.get(url3)\n",
    "\n",
    "# 현재 ISS의 위치\n",
    "print(r.text)\n",
    "print(\"=\"*120)\n",
    "\n",
    "# 내 위치에 ISS가 올 시각\n",
    "print(r2.text)\n",
    "print(\"=\"*120)\n",
    "\n",
    "# 얼마나 많은 사람들이 space 상에 있는지를 보여줌\n",
    "# 예 > 어떤 craft(우주선)에 name(이름)은 뭐시기다 이렇게 보여줌\n",
    "print(r3.text)"
   ]
  },
  {
   "cell_type": "code",
   "execution_count": 46,
   "metadata": {},
   "outputs": [
    {
     "name": "stdout",
     "output_type": "stream",
     "text": [
      "<class 'dict'> <class 'dict'> <class 'dict'>\n"
     ]
    }
   ],
   "source": [
    "# 앞에서 살펴본 json 라이브러리의 'json.loads()'를 활용 JSON 형태의 data를 Python dictionary로 변경한다\n",
    "json_to_dict = json.loads(r.text)\n",
    "json_to_dict2 = json.loads(r2.text)\n",
    "json_to_dict3 = json.loads(r3.text)\n",
    "\n",
    "print(type(json_to_dict), type(json_to_dict2), type(json_to_dict3)) "
   ]
  },
  {
   "cell_type": "code",
   "execution_count": 47,
   "metadata": {},
   "outputs": [],
   "source": [
    "# 앞에서 웹 API 응답(r)에서 'r.text'를 이용, JSON 형태의 데이터를 가져온 후 'json.loads()'로\n",
    "# JSON 형태의 데이터를 dictionary 형태의 데이터로 변환 -> r.json() 으로 단순화가 가능하다\n",
    "import requests\n",
    "\n",
    "url = \"http://api.open-notify.org/iss-now.json\"\n",
    "\n",
    "LAT = '37.40' # 위도 \n",
    "LON = '126.37' # 경도\n",
    "url2 = \"http://api.open-notify.org/iss-pass.json\"\n",
    "req_param = {\"lat\": LAT, \"lon\": LON}\n",
    "\n",
    "url3 = \"http://api.open-notify.org/astros.json\"\n",
    "\n",
    "r = requests.get(url)\n",
    "r2 = requests.get(url2, params = req_param)\n",
    "r3 = requests.get(url3)\n",
    "\n",
    "json_to_dict = r.json() # 간결화\n",
    "json_to_dict2 = r2.json() # 간결화\n",
    "json_to_dict3 = r3.json() # 간결화"
   ]
  },
  {
   "cell_type": "code",
   "execution_count": 48,
   "metadata": {},
   "outputs": [],
   "source": [
    "# 위 코드를 좀 더 단순화\n",
    "import requests\n",
    "\n",
    "url = \"http://api.open-notify.org/iss-now.json\"\n",
    "\n",
    "LAT = '37.40' # 위도 \n",
    "LON = '126.37' # 경도\n",
    "url2 = \"http://api.open-notify.org/iss-pass.json\"\n",
    "req_param = {\"lat\": LAT, \"lon\": LON}\n",
    "\n",
    "url3 = \"http://api.open-notify.org/astros.json\"\n",
    "\n",
    "json_to_dict = requests.get(url).json()\n",
    "json_to_dict2 = requests.get(url2, params = req_param).json()\n",
    "json_to_dict3 = requests.get(url3).json()"
   ]
  },
  {
   "cell_type": "code",
   "execution_count": 54,
   "metadata": {},
   "outputs": [
    {
     "name": "stdout",
     "output_type": "stream",
     "text": [
      "{'iss_position': {'latitude': '-49.9902', 'longitude': '-64.2937'}, 'timestamp': 1558116213, 'message': 'success'}\n",
      "===========================================================================================================================================\n",
      "{'message': 'success', 'request': {'altitude': 100, 'datetime': 1558115398, 'latitude': 37.4, 'longitude': 126.37, 'passes': 5}, 'response': [{'duration': 632, 'risetime': 1558118997}, {'duration': 591, 'risetime': 1558124802}, {'duration': 620, 'risetime': 1558178965}, {'duration': 614, 'risetime': 1558184763}, {'duration': 494, 'risetime': 1558190673}]}\n",
      "===========================================================================================================================================\n",
      "{'message': 'success', 'number': 6, 'people': [{'craft': 'ISS', 'name': 'Oleg Kononenko'}, {'craft': 'ISS', 'name': 'David Saint-Jacques'}, {'craft': 'ISS', 'name': 'Anne McClain'}, {'craft': 'ISS', 'name': 'Alexey Ovchinin'}, {'craft': 'ISS', 'name': 'Nick Hague'}, {'craft': 'ISS', 'name': 'Christina Koch'}]}\n"
     ]
    }
   ],
   "source": [
    "# 위의 결과 출력\n",
    "print(json_to_dict)\n",
    "print(\"=\"*139)\n",
    "print(json_to_dict2)\n",
    "print(\"=\"*139)\n",
    "print(json_to_dict3)"
   ]
  },
  {
   "cell_type": "code",
   "execution_count": 71,
   "metadata": {},
   "outputs": [
    {
     "name": "stdout",
     "output_type": "stream",
     "text": [
      "success\n",
      "{'latitude': '-49.9902', 'longitude': '-64.2937'}\n",
      "-49.9902\n",
      "-64.2937\n",
      "1558116213\n",
      "===========================================================================================================================================\n",
      "success\n",
      "100\n",
      "1558115398\n",
      "37.4\n",
      "126.37\n",
      "[{'duration': 632, 'risetime': 1558118997}, {'duration': 591, 'risetime': 1558124802}, {'duration': 620, 'risetime': 1558178965}, {'duration': 614, 'risetime': 1558184763}, {'duration': 494, 'risetime': 1558190673}]\n",
      "632\n",
      "1558118997\n",
      "===========================================================================================================================================\n",
      "success\n",
      "[{'craft': 'ISS', 'name': 'Oleg Kononenko'}, {'craft': 'ISS', 'name': 'David Saint-Jacques'}, {'craft': 'ISS', 'name': 'Anne McClain'}, {'craft': 'ISS', 'name': 'Alexey Ovchinin'}, {'craft': 'ISS', 'name': 'Nick Hague'}, {'craft': 'ISS', 'name': 'Christina Koch'}]\n",
      "{'craft': 'ISS', 'name': 'Oleg Kononenko'}\n",
      "{'craft': 'ISS', 'name': 'David Saint-Jacques'}\n",
      "{'craft': 'ISS', 'name': 'Anne McClain'}\n"
     ]
    }
   ],
   "source": [
    "# 딕셔너리 타입 변환 후 원하는 데이터만 가져올 수 있습니다.\n",
    "print(json_to_dict[\"message\"])\n",
    "print(json_to_dict[\"iss_position\"])\n",
    "print(json_to_dict[\"iss_position\"][\"latitude\"])\n",
    "print(json_to_dict[\"iss_position\"][\"longitude\"])\n",
    "print(json_to_dict[\"timestamp\"])\n",
    "print(\"=\"*139)\n",
    "print(json_to_dict2[\"message\"])\n",
    "print(json_to_dict2[\"request\"][\"altitude\"])\n",
    "print(json_to_dict2[\"request\"][\"datetime\"])\n",
    "print(json_to_dict2[\"request\"][\"latitude\"])\n",
    "print(json_to_dict2[\"request\"][\"longitude\"])\n",
    "print(json_to_dict2[\"response\"])\n",
    "print(json_to_dict2[\"response\"][0][\"duration\"])\n",
    "print(json_to_dict2[\"response\"][0][\"risetime\"])\n",
    "print(\"=\"*139)\n",
    "print(json_to_dict3[\"message\"])\n",
    "print(json_to_dict3[\"people\"])\n",
    "print(json_to_dict3[\"people\"][0])\n",
    "print(json_to_dict3[\"people\"][1])\n",
    "print(json_to_dict3[\"people\"][2])"
   ]
  },
  {
   "cell_type": "code",
   "execution_count": 73,
   "metadata": {},
   "outputs": [
    {
     "name": "stdout",
     "output_type": "stream",
     "text": [
      "{'latitude': '-3.1474', 'longitude': '-0.9430'}\n"
     ]
    },
    {
     "ename": "KeyboardInterrupt",
     "evalue": "",
     "output_type": "error",
     "traceback": [
      "\u001b[1;31m---------------------------------------------------------------------------\u001b[0m",
      "\u001b[1;31mKeyboardInterrupt\u001b[0m                         Traceback (most recent call last)",
      "\u001b[1;32m<ipython-input-73-4dd4eabd94a1>\u001b[0m in \u001b[0;36m<module>\u001b[1;34m\u001b[0m\n\u001b[0;32m     29\u001b[0m \u001b[1;31m#     print(ISS_passed_on_Gimpo(url2, req_param))\u001b[0m\u001b[1;33m\u001b[0m\u001b[1;33m\u001b[0m\u001b[1;33m\u001b[0m\u001b[0m\n\u001b[0;32m     30\u001b[0m \u001b[1;31m#     print(ISS_Crew_in_space(url3))\u001b[0m\u001b[1;33m\u001b[0m\u001b[1;33m\u001b[0m\u001b[1;33m\u001b[0m\u001b[0m\n\u001b[1;32m---> 31\u001b[1;33m     \u001b[0mtime\u001b[0m\u001b[1;33m.\u001b[0m\u001b[0msleep\u001b[0m\u001b[1;33m(\u001b[0m\u001b[1;36m10\u001b[0m\u001b[1;33m)\u001b[0m\u001b[1;33m\u001b[0m\u001b[1;33m\u001b[0m\u001b[0m\n\u001b[0m",
      "\u001b[1;31mKeyboardInterrupt\u001b[0m: "
     ]
    }
   ],
   "source": [
    "# 국제우주정거장 API를 이용하여 국제우주정거장의 위치 정보를 일정 시간(여기서는 10초)마다 갱신하는 코드를 작성합니다\n",
    "import requests\n",
    "import time\n",
    "\n",
    "url = \"http://api.open-notify.org/iss-now.json\"\n",
    "\n",
    "LAT = '37.40' # 위도 \n",
    "LON = '126.37' # 경도\n",
    "url2 = \"http://api.open-notify.org/iss-pass.json\"\n",
    "req_param = {\"lat\": LAT, \"lon\": LON}\n",
    "\n",
    "url3 = \"http://api.open-notify.org/astros.json\"\n",
    "\n",
    "def ISS_Position(iss_position_api_url):\n",
    "    json_to_dict = requests.get(iss_position_api_url).json()\n",
    "    return json_to_dict[\"iss_position\"]\n",
    "\n",
    "def ISS_passed_on_Gimpo(iss_passed_api_url, req_param):\n",
    "    json_to_dict2 = requests.get(iss_passed_api_url, params = req_param)\n",
    "    return json_to_dict2[\"response\"]\n",
    "\n",
    "def ISS_Crew_in_space(iss_astros_api_url):\n",
    "    json_to_dict3 = requests.get(iss_astros_api_url)\n",
    "    return json_to_dict3[\"people\"]\n",
    "\n",
    "for i in range(10):\n",
    "    print(ISS_Position(url))\n",
    "    # 안되는 부분 수정해서 같이 출력될 수 있도록 조치필요\n",
    "#     print(ISS_passed_on_Gimpo(url2, req_param))\n",
    "#     print(ISS_Crew_in_space(url3))\n",
    "    time.sleep(10)"
   ]
  },
  {
   "cell_type": "code",
   "execution_count": 76,
   "metadata": {},
   "outputs": [
    {
     "name": "stdout",
     "output_type": "stream",
     "text": [
      "[{\"name\":\"South Korea\",\"topLevelDomain\":[\".kr\"],\"alpha2Code\":\"KR\",\"alpha3Code\":\"KOR\",\"callingCodes\":[\"82\"],\"capital\":\"Seoul\",\"altSpellings\":[\"KR\",\"Republic of Korea\"],\"region\":\"Asia\",\"subregion\":\"Eastern Asia\",\"population\":51448183,\"latlng\":[37.0,127.5],\"demonym\":\"South Korean\",\"area\":100210.0,\"gini\":31.3,\"timezones\":[\"UTC+09:00\"],\"borders\":[\"PRK\"],\"nativeName\":\"대한민국\",\"numericCode\":\"410\",\"currencies\":[\"KRW\"],\"languages\":[\"ko\"],\"translations\":{\"de\":\"Südkorea\",\"es\":\"Corea del Sur\",\"fr\":\"Corée du Sud\",\"ja\":\"大韓民国\",\"it\":\"Corea del Sud\"},\"relevance\":\"1.5\"}]\n"
     ]
    }
   ],
   "source": [
    "# 국가 관련 정보를 웹 API로 제공함(https://restcountries.eu/)\n",
    "import requests\n",
    "\n",
    "# 책하고 url 다른거 확인하고 작성할것!\n",
    "url_temp = \"https://restcountries.eu/rest/v1/name/\"\n",
    "country = \"South Korea\"\n",
    "url = url_temp + country\n",
    "\n",
    "r = requests.get(url)\n",
    "\n",
    "print(r.text)"
   ]
  },
  {
   "cell_type": "code",
   "execution_count": 77,
   "metadata": {},
   "outputs": [
    {
     "data": {
      "text/plain": [
       "[{'name': 'South Korea',\n",
       "  'topLevelDomain': ['.kr'],\n",
       "  'alpha2Code': 'KR',\n",
       "  'alpha3Code': 'KOR',\n",
       "  'callingCodes': ['82'],\n",
       "  'capital': 'Seoul',\n",
       "  'altSpellings': ['KR', 'Republic of Korea'],\n",
       "  'region': 'Asia',\n",
       "  'subregion': 'Eastern Asia',\n",
       "  'population': 51448183,\n",
       "  'latlng': [37.0, 127.5],\n",
       "  'demonym': 'South Korean',\n",
       "  'area': 100210.0,\n",
       "  'gini': 31.3,\n",
       "  'timezones': ['UTC+09:00'],\n",
       "  'borders': ['PRK'],\n",
       "  'nativeName': '대한민국',\n",
       "  'numericCode': '410',\n",
       "  'currencies': ['KRW'],\n",
       "  'languages': ['ko'],\n",
       "  'translations': {'de': 'Südkorea',\n",
       "   'es': 'Corea del Sur',\n",
       "   'fr': 'Corée du Sud',\n",
       "   'ja': '大韓民国',\n",
       "   'it': 'Corea del Sud'},\n",
       "  'relevance': '1.5'}]"
      ]
     },
     "execution_count": 77,
     "metadata": {},
     "output_type": "execute_result"
    }
   ],
   "source": [
    "# JSON 형식의 파일을 파이썬 데이터 형태로 변환\n",
    "json_to_list = requests.get(url).json()\n",
    "json_to_list"
   ]
  },
  {
   "cell_type": "code",
   "execution_count": 78,
   "metadata": {},
   "outputs": [
    {
     "data": {
      "text/plain": [
       "'Seoul'"
      ]
     },
     "execution_count": 78,
     "metadata": {},
     "output_type": "execute_result"
    }
   ],
   "source": [
    "# 변수 json_to_list에서 나라의 수도(Capital) 추출\n",
    "json_to_list[0][\"capital\"]"
   ]
  },
  {
   "cell_type": "code",
   "execution_count": 79,
   "metadata": {},
   "outputs": [
    {
     "name": "stdout",
     "output_type": "stream",
     "text": [
      "*South Korea: Seoul\n",
      "*United States of America: Washington, D.C.\n",
      "*United Kingdom: London\n",
      "*France: Paris\n",
      "*Germany: Berlin\n",
      "*Japan: Tokyo\n",
      "*China: Beijing\n"
     ]
    }
   ],
   "source": [
    "# 위의 내용을 활용하여 여러개의 나라 정보를 웹 API를 통해 가져오는 예제 작성\n",
    "import requests\n",
    "import json\n",
    "\n",
    "countries = [\"South Korea\", \"United States of America\", \"United Kingdom\", \"France\", \"Germany\", \"Japan\", \"China\"]\n",
    "\n",
    "def country_to_capital(country):\n",
    "    url_temp = \"https://restcountries.eu/rest/v1/name/\"\n",
    "    url = url_temp + country\n",
    "    json_to_list = requests.get(url).json()\n",
    "    return json_to_list[0][\"capital\"]\n",
    "\n",
    "for country in countries:\n",
    "    capital = country_to_capital(country)\n",
    "    print(\"*{0}: {1}\".format(country, capital))"
   ]
  },
  {
   "cell_type": "code",
   "execution_count": null,
   "metadata": {},
   "outputs": [],
   "source": []
  },
  {
   "cell_type": "code",
   "execution_count": null,
   "metadata": {},
   "outputs": [],
   "source": []
  },
  {
   "cell_type": "code",
   "execution_count": null,
   "metadata": {},
   "outputs": [],
   "source": []
  },
  {
   "cell_type": "code",
   "execution_count": null,
   "metadata": {},
   "outputs": [],
   "source": []
  }
 ],
 "metadata": {
  "kernelspec": {
   "display_name": "Python 3",
   "language": "python",
   "name": "python3"
  },
  "language_info": {
   "codemirror_mode": {
    "name": "ipython",
    "version": 3
   },
   "file_extension": ".py",
   "mimetype": "text/x-python",
   "name": "python",
   "nbconvert_exporter": "python",
   "pygments_lexer": "ipython3",
   "version": "3.6.8"
  }
 },
 "nbformat": 4,
 "nbformat_minor": 2
}
